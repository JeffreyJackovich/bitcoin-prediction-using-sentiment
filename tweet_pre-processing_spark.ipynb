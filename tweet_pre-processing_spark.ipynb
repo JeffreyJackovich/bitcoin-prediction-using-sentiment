{
 "cells": [
  {
   "cell_type": "code",
   "execution_count": 1,
   "metadata": {
    "collapsed": false
   },
   "outputs": [],
   "source": [
    "# data analysis\n",
    "import findspark\n",
    "findspark.init()\n",
    "import pandas as pd\n",
    "from pyspark import SparkContext\n",
    "from pyspark.sql import SQLContext\n",
    "from pyspark.sql.functions import col,udf,monotonically_increasing_id,unix_timestamp,round,avg,split,size\n",
    "from pyspark.sql.types import *\n",
    "sc = SparkContext(\"local\", \"first app\")\n",
    "sql = SQLContext(sc)\n",
    "\n",
    "# visualization\n",
    "from IPython import display\n",
    "import seaborn as sns\n",
    "import matplotlib.pyplot as plt\n",
    "import matplotlib.dates as mdates\n",
    "from matplotlib import cm\n",
    "\n",
    "#sentiment analysis\n",
    "from textblob import TextBlob\n",
    "import re\n",
    "import nltk\n",
    "from nltk.corpus import stopwords\n",
    "stop = stopwords.words('english')\n",
    "from vaderSentiment.vaderSentiment import SentimentIntensityAnalyzer"
   ]
  },
  {
   "cell_type": "markdown",
   "metadata": {},
   "source": [
    "## Load Tweet dataframe"
   ]
  },
  {
   "cell_type": "code",
   "execution_count": 3,
   "metadata": {
    "collapsed": true
   },
   "outputs": [],
   "source": [
    "# https://datascience.stackexchange.com/questions/13123/import-csv-file-contents-into-pyspark-dataframes\n",
    "ps_df = sql.read.format(\"com.databricks.spark.csv\").options(header=\"true\", inferschema='true').load(\"data/output_2018-11-11-to-2014-12-31-1000-perdate.csv\")"
   ]
  },
  {
   "cell_type": "code",
   "execution_count": 4,
   "metadata": {
    "collapsed": false
   },
   "outputs": [
    {
     "name": "stdout",
     "output_type": "stream",
     "text": [
      "root\n",
      " |-- date: timestamp (nullable = true)\n",
      " |-- text: string (nullable = true)\n",
      " |-- id: string (nullable = true)\n",
      " |-- permalink: string (nullable = true)\n",
      "\n"
     ]
    }
   ],
   "source": [
    "ps_df.printSchema()"
   ]
  },
  {
   "cell_type": "code",
   "execution_count": 5,
   "metadata": {
    "collapsed": false
   },
   "outputs": [
    {
     "name": "stdout",
     "output_type": "stream",
     "text": [
      "+-------------------+--------------------+-------------------+--------------------+\n",
      "|               date|                text|                 id|           permalink|\n",
      "+-------------------+--------------------+-------------------+--------------------+\n",
      "|2018-11-12 18:59:51|Greg Maxwell: Bit...|1062132900940992513|https://twitter.c...|\n",
      "|2018-11-12 18:59:50|Okay, I'll bite. ...|1062132895723257861|https://twitter.c...|\n",
      "|2018-11-12 18:59:49|@paulvigna Have y...|1062132890207629312|https://twitter.c...|\n",
      "+-------------------+--------------------+-------------------+--------------------+\n",
      "only showing top 3 rows\n",
      "\n"
     ]
    }
   ],
   "source": [
    "ps_df.show(3)"
   ]
  },
  {
   "cell_type": "code",
   "execution_count": 8,
   "metadata": {
    "collapsed": true
   },
   "outputs": [],
   "source": [
    "#ps_df = ps_tw_df.withColumnRenamed('date', 'date_time') #setting column names of Twitter dataset\n",
    "#ps_df = ps_df.withColumnRenamed('tweet', 'tweets') #setting column names of Twitter dataset"
   ]
  },
  {
   "cell_type": "code",
   "execution_count": 6,
   "metadata": {
    "collapsed": false
   },
   "outputs": [
    {
     "name": "stdout",
     "output_type": "stream",
     "text": [
      "+-------------------+--------------------+-------------------+--------------------+--------------------+\n",
      "|               date|                text|                 id|           permalink|      cleaned_tweets|\n",
      "+-------------------+--------------------+-------------------+--------------------+--------------------+\n",
      "|2018-11-12 18:59:51|Greg Maxwell: Bit...|1062132900940992513|https://twitter.c...|greg maxwell bitc...|\n",
      "|2018-11-12 18:59:50|Okay, I'll bite. ...|1062132895723257861|https://twitter.c...|okay i ll bite bl...|\n",
      "|2018-11-12 18:59:49|@paulvigna Have y...|1062132890207629312|https://twitter.c...|heard great new c...|\n",
      "+-------------------+--------------------+-------------------+--------------------+--------------------+\n",
      "only showing top 3 rows\n",
      "\n"
     ]
    }
   ],
   "source": [
    "def clean_tweet(tweet):\n",
    "    '''\n",
    "        Utility function to clean the text in a tweet by removing: stop words, links, special characters using regex.\n",
    "    Args:\n",
    "        tweet: DataFrame column 'text'\n",
    "    Returns:\n",
    "        \n",
    "    '''\n",
    "    tweet = str(tweet)\n",
    "    tweet = tweet.lower()\n",
    "    tweet = [word for word in tweet.split() if word not in stop]\n",
    "    return ' '.join(re.sub(\"(@[A-Za-z0-9]+)|([^0-9A-Za-z \\t])|(\\w+:\\/\\/\\S+)\", \" \", str(tweet)).split())\n",
    "\n",
    "func_udf =  udf(clean_tweet, StringType())\n",
    "ps_df = ps_df.withColumn('cleaned_tweets', func_udf(ps_df['text']))\n",
    "ps_df.show(3)"
   ]
  },
  {
   "cell_type": "markdown",
   "metadata": {
    "collapsed": true
   },
   "source": [
    "## Sentiment analysis: Text Blob "
   ]
  },
  {
   "cell_type": "code",
   "execution_count": 7,
   "metadata": {
    "collapsed": false
   },
   "outputs": [
    {
     "name": "stdout",
     "output_type": "stream",
     "text": [
      "+-------------------+--------------------+-------------------+--------------------+--------------------+-----------------+\n",
      "|               date|                text|                 id|           permalink|      cleaned_tweets|sentiment_txtblob|\n",
      "+-------------------+--------------------+-------------------+--------------------+--------------------+-----------------+\n",
      "|2018-11-12 18:59:51|Greg Maxwell: Bit...|1062132900940992513|https://twitter.c...|greg maxwell bitc...|             null|\n",
      "|2018-11-12 18:59:50|Okay, I'll bite. ...|1062132895723257861|https://twitter.c...|okay i ll bite bl...|             null|\n",
      "|2018-11-12 18:59:49|@paulvigna Have y...|1062132890207629312|https://twitter.c...|heard great new c...|             null|\n",
      "+-------------------+--------------------+-------------------+--------------------+--------------------+-----------------+\n",
      "only showing top 3 rows\n",
      "\n"
     ]
    }
   ],
   "source": [
    "#https://github.com/harishpuvvada/BitCoin-Value-Predictor/blob/master/Data_PreProcessing.ipynb\n",
    "def analyze_sentiment_tb(tweet):\n",
    "    '''\n",
    "        Classify the polarity of a tweet using textblob.\n",
    "    Args:\n",
    "        tweet:\n",
    "    Returns:\n",
    "    \n",
    "    '''\n",
    "    analysis = TextBlob(tweet)\n",
    "    polarity = analysis.sentiment.polarity\n",
    "    return polarity\n",
    "    \n",
    "func_udf2 = udf(analyze_sentiment_tb, ArrayType(FloatType()))\n",
    "ps_df = ps_df.withColumn('sentiment_txtblob', func_udf2(ps_df['cleaned_tweets'])[0])\n",
    "ps_df.show(3)"
   ]
  },
  {
   "cell_type": "markdown",
   "metadata": {},
   "source": [
    "## Sentiment analysis:  Vader"
   ]
  },
  {
   "cell_type": "code",
   "execution_count": 8,
   "metadata": {
    "collapsed": false
   },
   "outputs": [
    {
     "name": "stdout",
     "output_type": "stream",
     "text": [
      "+-------------------+--------------------+-------------------+--------------------+--------------------+-----------------+---------------+\n",
      "|               date|                text|                 id|           permalink|      cleaned_tweets|sentiment_txtblob|sentiment_vader|\n",
      "+-------------------+--------------------+-------------------+--------------------+--------------------+-----------------+---------------+\n",
      "|2018-11-12 18:59:51|Greg Maxwell: Bit...|1062132900940992513|https://twitter.c...|greg maxwell bitc...|             null|          0.162|\n",
      "|2018-11-12 18:59:50|Okay, I'll bite. ...|1062132895723257861|https://twitter.c...|okay i ll bite bl...|             null|            0.0|\n",
      "|2018-11-12 18:59:49|@paulvigna Have y...|1062132890207629312|https://twitter.c...|heard great new c...|             null|            0.0|\n",
      "+-------------------+--------------------+-------------------+--------------------+--------------------+-----------------+---------------+\n",
      "only showing top 3 rows\n",
      "\n"
     ]
    }
   ],
   "source": [
    "analyser = SentimentIntensityAnalyzer()\n",
    "\n",
    "def analyze_sentiment_v(sentence):\n",
    "    snt = analyser.polarity_scores(sentence)\n",
    "    return ([snt['neg'], snt['neu'], snt['pos'], snt['compound']])\n",
    "    #return (snt['compound'])\n",
    "\n",
    "func_udf2 = udf(analyze_sentiment_v, ArrayType(FloatType()))\n",
    "ps_df = ps_df.withColumn('sentiment_vader', func_udf2(ps_df['cleaned_tweets'])[0])\n",
    "ps_df.show(3)"
   ]
  },
  {
   "cell_type": "markdown",
   "metadata": {},
   "source": [
    "#### Word count"
   ]
  },
  {
   "cell_type": "code",
   "execution_count": 9,
   "metadata": {
    "collapsed": false
   },
   "outputs": [
    {
     "name": "stdout",
     "output_type": "stream",
     "text": [
      "+-------------------+--------------------+-------------------+--------------------+--------------------+-----------------+---------------+---------+\n",
      "|               date|                text|                 id|           permalink|      cleaned_tweets|sentiment_txtblob|sentiment_vader|wordCount|\n",
      "+-------------------+--------------------+-------------------+--------------------+--------------------+-----------------+---------------+---------+\n",
      "|2018-11-12 18:59:51|Greg Maxwell: Bit...|1062132900940992513|https://twitter.c...|greg maxwell bitc...|             null|          0.162|       29|\n",
      "|2018-11-12 18:59:50|Okay, I'll bite. ...|1062132895723257861|https://twitter.c...|okay i ll bite bl...|             null|            0.0|       31|\n",
      "|2018-11-12 18:59:49|@paulvigna Have y...|1062132890207629312|https://twitter.c...|heard great new c...|             null|            0.0|       23|\n",
      "+-------------------+--------------------+-------------------+--------------------+--------------------+-----------------+---------------+---------+\n",
      "only showing top 3 rows\n",
      "\n"
     ]
    }
   ],
   "source": [
    "ps_df = ps_df.withColumn('wordCount', size(split(col('cleaned_tweets'), ' ')))\n",
    "ps_df.show(3)"
   ]
  },
  {
   "cell_type": "code",
   "execution_count": 10,
   "metadata": {
    "collapsed": true
   },
   "outputs": [],
   "source": [
    "ps_df = ps_df.selectExpr('date','permalink','cleaned_tweets','sentiment_vader','wordCount')"
   ]
  },
  {
   "cell_type": "code",
   "execution_count": 11,
   "metadata": {
    "collapsed": false
   },
   "outputs": [
    {
     "name": "stdout",
     "output_type": "stream",
     "text": [
      "+-------------------+--------------------+--------------------+---------------+---------+\n",
      "|               date|           permalink|      cleaned_tweets|sentiment_vader|wordCount|\n",
      "+-------------------+--------------------+--------------------+---------------+---------+\n",
      "|2018-11-12 18:59:51|https://twitter.c...|greg maxwell bitc...|          0.162|       29|\n",
      "|2018-11-12 18:59:50|https://twitter.c...|okay i ll bite bl...|            0.0|       31|\n",
      "|2018-11-12 18:59:49|https://twitter.c...|heard great new c...|            0.0|       23|\n",
      "+-------------------+--------------------+--------------------+---------------+---------+\n",
      "only showing top 3 rows\n",
      "\n"
     ]
    }
   ],
   "source": [
    "ps_df.show(3)"
   ]
  },
  {
   "cell_type": "code",
   "execution_count": null,
   "metadata": {
    "collapsed": true
   },
   "outputs": [],
   "source": []
  }
 ],
 "metadata": {
  "kernelspec": {
   "display_name": "Python [conda env:Anaconda3]",
   "language": "python",
   "name": "conda-env-Anaconda3-py"
  },
  "language_info": {
   "codemirror_mode": {
    "name": "ipython",
    "version": 3
   },
   "file_extension": ".py",
   "mimetype": "text/x-python",
   "name": "python",
   "nbconvert_exporter": "python",
   "pygments_lexer": "ipython3",
   "version": "3.5.2"
  }
 },
 "nbformat": 4,
 "nbformat_minor": 1
}

{
 "cells": [
  {
   "cell_type": "code",
   "execution_count": 1,
   "metadata": {
    "collapsed": true
   },
   "outputs": [
    {
     "ename": "ModuleNotFoundError",
     "evalue": "No module named 'findspark'",
     "output_type": "error",
     "traceback": [
      "\u001b[0;31m---------------------------------------------------------------------------\u001b[0m",
      "\u001b[0;31mModuleNotFoundError\u001b[0m                       Traceback (most recent call last)",
      "\u001b[0;32m<ipython-input-1-bcae5fdcc785>\u001b[0m in \u001b[0;36m<module>\u001b[0;34m\u001b[0m\n\u001b[1;32m      1\u001b[0m \u001b[0;31m# setup environment\u001b[0m\u001b[0;34m\u001b[0m\u001b[0;34m\u001b[0m\u001b[0;34m\u001b[0m\u001b[0m\n\u001b[0;32m----> 2\u001b[0;31m \u001b[0;32mimport\u001b[0m \u001b[0mfindspark\u001b[0m\u001b[0;34m\u001b[0m\u001b[0;34m\u001b[0m\u001b[0m\n\u001b[0m\u001b[1;32m      3\u001b[0m \u001b[0mfindspark\u001b[0m\u001b[0;34m.\u001b[0m\u001b[0minit\u001b[0m\u001b[0;34m(\u001b[0m\u001b[0;34m)\u001b[0m\u001b[0;34m\u001b[0m\u001b[0;34m\u001b[0m\u001b[0m\n\u001b[1;32m      4\u001b[0m \u001b[0;34m\u001b[0m\u001b[0m\n\u001b[1;32m      5\u001b[0m \u001b[0;32mfrom\u001b[0m \u001b[0mpyspark\u001b[0m \u001b[0;32mimport\u001b[0m \u001b[0mSparkContext\u001b[0m\u001b[0;34m\u001b[0m\u001b[0;34m\u001b[0m\u001b[0m\n",
      "\u001b[0;31mModuleNotFoundError\u001b[0m: No module named 'findspark'"
     ]
    }
   ],
   "source": [
    "# setup environment\n",
    "# import findspark\n",
    "# findspark.init()\n",
    "\n",
    "# from pyspark import SparkContext\n",
    "# sc = SparkContext(\"local\", \"first app\")\n",
    "# sc = SparkContext.getOrCreate()\n",
    "\n",
    "# import pyspark\n",
    "from pyspark.sql import SparkSession\n",
    "spark = SparkSession.builder.getOrCreate() \n",
    "spark\n",
    "\n",
    "# from pyspark.sql import SQLContext\n",
    "# sql = SQLContext(sc)\n",
    "\n",
    "# data analysis\n",
    "from pyspark.sql.functions import to_timestamp,col,lit,udf,monotonically_increasing_id,unix_timestamp,round,avg,split,size,isnan,when,count\n",
    "from pyspark.sql.types import StringType, FloatType, ArrayType\n",
    "from functools import reduce\n",
    "\n",
    "# visualization\n",
    "from IPython import display\n",
    "import seaborn as sns\n",
    "import matplotlib.pyplot as plt\n",
    "import matplotlib.dates as mdates\n",
    "from matplotlib import cm\n",
    "\n",
    "#sentiment analysis\n",
    "from textblob import TextBlob\n",
    "import re\n",
    "import nltk\n",
    "from nltk.corpus import stopwords\n",
    "stop = stopwords.words('english')\n",
    "from vaderSentiment.vaderSentiment import SentimentIntensityAnalyzer"
   ]
  },
  {
   "cell_type": "code",
   "execution_count": null,
   "metadata": {},
   "outputs": [],
   "source": []
  },
  {
   "cell_type": "markdown",
   "metadata": {},
   "source": [
    "## Read CSV"
   ]
  },
  {
   "cell_type": "code",
   "execution_count": 2,
   "metadata": {},
   "outputs": [
    {
     "name": "stdout",
     "output_type": "stream",
     "text": [
      "+----+----------------+--------+--------------------+--------------------+------------------+\n",
      "|date|              id|    text|           permalink|       permalink_uid|          username|\n",
      "+----+----------------+--------+--------------------+--------------------+------------------+\n",
      "|   0|12/25/2017 11:00|9.45E+17|#Bitcoin Is Alrea...|https://twitter.c...|945323495235481600|\n",
      "|   1|12/25/2017 11:00|9.45E+17|bitcoin $ BTCUSD ...|https://twitter.c...|945323493079617536|\n",
      "|   2|12/25/2017 11:00|9.45E+17|Tire suas dúvidas...|https://twitter.c...|945323491817082881|\n",
      "|   4|12/25/2017 11:00|9.45E+17|Five Reasons #Bit...|https://twitter.c...|945323481411047426|\n",
      "|   5|12/25/2017 11:00|9.45E+17|#الفوركس #форекс ...|https://twitter.c...|945323480744112129|\n",
      "+----+----------------+--------+--------------------+--------------------+------------------+\n",
      "only showing top 5 rows\n",
      "\n"
     ]
    }
   ],
   "source": [
    "df = spark.read.csv('data/btc_tweets_1418244_unique.csv',header=True) \n",
    "#.withColumn('id',to_timestamp(col('id'),'MM/dd/yyyy hh:mm:ss a'))\n",
    "df.show(5)"
   ]
  },
  {
   "cell_type": "code",
   "execution_count": null,
   "metadata": {
    "collapsed": true
   },
   "outputs": [],
   "source": []
  },
  {
   "cell_type": "code",
   "execution_count": 3,
   "metadata": {
    "scrolled": true
   },
   "outputs": [
    {
     "name": "stdout",
     "output_type": "stream",
     "text": [
      "root\n",
      " |-- id_row_unique: string (nullable = true)\n",
      " |-- date: string (nullable = true)\n",
      " |-- id_user_short: string (nullable = true)\n",
      " |-- tweet: string (nullable = true)\n",
      " |-- permalink: string (nullable = true)\n",
      " |-- id_user_long: string (nullable = true)\n",
      "\n",
      "+-------------+----------------+-------------+--------------------+--------------------+------------------+\n",
      "|id_row_unique|            date|id_user_short|               tweet|           permalink|      id_user_long|\n",
      "+-------------+----------------+-------------+--------------------+--------------------+------------------+\n",
      "|            0|12/25/2017 11:00|     9.45E+17|#Bitcoin Is Alrea...|https://twitter.c...|945323495235481600|\n",
      "|            1|12/25/2017 11:00|     9.45E+17|bitcoin $ BTCUSD ...|https://twitter.c...|945323493079617536|\n",
      "|            2|12/25/2017 11:00|     9.45E+17|Tire suas dúvidas...|https://twitter.c...|945323491817082881|\n",
      "|            4|12/25/2017 11:00|     9.45E+17|Five Reasons #Bit...|https://twitter.c...|945323481411047426|\n",
      "|            5|12/25/2017 11:00|     9.45E+17|#الفوركس #форекс ...|https://twitter.c...|945323480744112129|\n",
      "|            6|12/25/2017 11:00|     9.45E+17|https:// box.netl...|https://twitter.c...|945323478852521984|\n",
      "|            7|12/25/2017 11:00|     9.45E+17|Opera 50 Web Brow...|https://twitter.c...|945323470010826753|\n",
      "|            8|12/25/2017 11:00|     9.45E+17|Bitcoin Price Dro...|https://twitter.c...|945323469440503808|\n",
      "|           10|12/25/2017 11:00|         null|\"RT AlertTrade \"\"...|            9.45E+17|              null|\n",
      "|           11|12/25/2017 11:00|     9.45E+17|http:// ow.ly/xqM...|https://twitter.c...|945323467909541889|\n",
      "|           12|12/25/2017 11:00|     9.45E+17|5 things that sta...|https://twitter.c...|945323466273812480|\n",
      "|           13|12/25/2017 11:00|     9.45E+17|\"RT AlertTrade \"\"...|https://twitter.c...|945323465585975302|\n",
      "|           14|12/25/2017 11:00|     9.45E+17|Bitcoin Is In A S...|https://twitter.c...|945323464533184512|\n",
      "|           15|12/25/2017 11:00|     9.45E+17|\"RT AlertTrade \"\"...|https://twitter.c...|945323463996305409|\n",
      "|           16|12/25/2017 11:00|     9.45E+17|How to protect yo...|https://twitter.c...|945323461928419328|\n",
      "|           17|12/25/2017 11:00|     9.45E+17|\"RT AlertTrade \"\"...|https://twitter.c...|945323461693624320|\n",
      "|           18|12/25/2017 11:00|     9.45E+17|Bitcoin prices st...|https://twitter.c...|945323458145259521|\n",
      "|           19|12/25/2017 11:00|     9.45E+17|Vietnam Investiga...|https://twitter.c...|945323456538841088|\n",
      "|           20|12/25/2017 11:00|     9.45E+17|#forex #bitcoin #...|https://twitter.c...|945323452076101632|\n",
      "|           21|12/25/2017 11:00|     9.45E+17|Elon Musk Is Now ...|https://twitter.c...|945323449697873921|\n",
      "+-------------+----------------+-------------+--------------------+--------------------+------------------+\n",
      "only showing top 20 rows\n",
      "\n"
     ]
    }
   ],
   "source": [
    "oldColumns = df.schema.names\n",
    "newColumns = ['id_row_unique', 'date', 'id_user_short', 'tweet', 'permalink', 'id_user_long']\n",
    "\n",
    "df = reduce(lambda df, idx: df.withColumnRenamed(oldColumns[idx], newColumns[idx]), \n",
    "            range(len(oldColumns)), df)\n",
    "df.printSchema()\n",
    "df.show()"
   ]
  },
  {
   "cell_type": "code",
   "execution_count": 4,
   "metadata": {
    "collapsed": true
   },
   "outputs": [],
   "source": [
    "df = df.drop('id_row_unique', 'id_user_short', 'permalink')"
   ]
  },
  {
   "cell_type": "code",
   "execution_count": 9,
   "metadata": {},
   "outputs": [
    {
     "name": "stdout",
     "output_type": "stream",
     "text": [
      "+----------------+--------------------+------------------+---------+\n",
      "|            date|               tweet|           id_user|wordCount|\n",
      "+----------------+--------------------+------------------+---------+\n",
      "|12/25/2017 11:00|#Bitcoin Is Alrea...|945323495235481600|       20|\n",
      "|12/25/2017 11:00|bitcoin $ BTCUSD ...|945323493079617536|        8|\n",
      "|12/25/2017 11:00|Tire suas dúvidas...|945323491817082881|        7|\n",
      "|12/25/2017 11:00|Five Reasons #Bit...|945323481411047426|       14|\n",
      "|12/25/2017 11:00|#الفوركس #форекс ...|945323480744112129|       36|\n",
      "|12/25/2017 11:00|https:// box.netl...|945323478852521984|       14|\n",
      "|12/25/2017 11:00|Opera 50 Web Brow...|945323470010826753|       20|\n",
      "|12/25/2017 11:00|Bitcoin Price Dro...|945323469440503808|       21|\n",
      "|12/25/2017 11:00|\"RT AlertTrade \"\"...|              null|        8|\n",
      "|12/25/2017 11:00|http:// ow.ly/xqM...|945323467909541889|       16|\n",
      "|12/25/2017 11:00|5 things that sta...|945323466273812480|       34|\n",
      "|12/25/2017 11:00|\"RT AlertTrade \"\"...|945323465585975302|       22|\n",
      "|12/25/2017 11:00|Bitcoin Is In A S...|945323464533184512|       21|\n",
      "|12/25/2017 11:00|\"RT AlertTrade \"\"...|945323463996305409|       28|\n",
      "|12/25/2017 11:00|How to protect yo...|945323461928419328|        9|\n",
      "|12/25/2017 11:00|\"RT AlertTrade \"\"...|945323461693624320|       24|\n",
      "|12/25/2017 11:00|Bitcoin prices st...|945323458145259521|       13|\n",
      "|12/25/2017 11:00|Vietnam Investiga...|945323456538841088|       14|\n",
      "|12/25/2017 11:00|#forex #bitcoin #...|945323452076101632|       33|\n",
      "|12/25/2017 11:00|Elon Musk Is Now ...|945323449697873921|       19|\n",
      "+----------------+--------------------+------------------+---------+\n",
      "only showing top 20 rows\n",
      "\n"
     ]
    }
   ],
   "source": [
    "df = df.withColumnRenamed('id_user_long', 'id_user')\n",
    "df.show()"
   ]
  },
  {
   "cell_type": "code",
   "execution_count": 20,
   "metadata": {
    "collapsed": true
   },
   "outputs": [
    {
     "name": "stdout",
     "output_type": "stream",
     "text": [
      "+-------------+----------------+--------------------+------------------+\n",
      "|id_row_unique|            date|               tweet|      id_user_long|\n",
      "+-------------+----------------+--------------------+------------------+\n",
      "|            0|12/25/2017 11:00|#Bitcoin Is Alrea...|945323495235481600|\n",
      "|            1|12/25/2017 11:00|bitcoin $ BTCUSD ...|945323493079617536|\n",
      "|            2|12/25/2017 11:00|Tire suas dúvidas...|945323491817082881|\n",
      "|            4|12/25/2017 11:00|Five Reasons #Bit...|945323481411047426|\n",
      "|            5|12/25/2017 11:00|#الفوركس #форекс ...|945323480744112129|\n",
      "|            6|12/25/2017 11:00|https:// box.netl...|945323478852521984|\n",
      "|            7|12/25/2017 11:00|Opera 50 Web Brow...|945323470010826753|\n",
      "|            8|12/25/2017 11:00|Bitcoin Price Dro...|945323469440503808|\n",
      "|           10|12/25/2017 11:00|\"RT AlertTrade \"\"...|              null|\n",
      "|           11|12/25/2017 11:00|http:// ow.ly/xqM...|945323467909541889|\n",
      "|           12|12/25/2017 11:00|5 things that sta...|945323466273812480|\n",
      "|           13|12/25/2017 11:00|\"RT AlertTrade \"\"...|945323465585975302|\n",
      "|           14|12/25/2017 11:00|Bitcoin Is In A S...|945323464533184512|\n",
      "|           15|12/25/2017 11:00|\"RT AlertTrade \"\"...|945323463996305409|\n",
      "|           16|12/25/2017 11:00|How to protect yo...|945323461928419328|\n",
      "|           17|12/25/2017 11:00|\"RT AlertTrade \"\"...|945323461693624320|\n",
      "|           18|12/25/2017 11:00|Bitcoin prices st...|945323458145259521|\n",
      "|           19|12/25/2017 11:00|Vietnam Investiga...|945323456538841088|\n",
      "|           20|12/25/2017 11:00|#forex #bitcoin #...|945323452076101632|\n",
      "|           21|12/25/2017 11:00|Elon Musk Is Now ...|945323449697873921|\n",
      "+-------------+----------------+--------------------+------------------+\n",
      "only showing top 20 rows\n",
      "\n"
     ]
    }
   ],
   "source": []
  },
  {
   "cell_type": "markdown",
   "metadata": {},
   "source": [
    "## Check for Nulls"
   ]
  },
  {
   "cell_type": "code",
   "execution_count": 10,
   "metadata": {},
   "outputs": [
    {
     "name": "stdout",
     "output_type": "stream",
     "text": [
      "+----+-----+-------+---------+\n",
      "|date|tweet|id_user|wordCount|\n",
      "+----+-----+-------+---------+\n",
      "|   1|    0|   4598|        0|\n",
      "+----+-----+-------+---------+\n",
      "\n"
     ]
    }
   ],
   "source": [
    "df.select([count(when(isnan(c) | col(c).isNull(), c)).alias(c) for c in df.columns]).show()"
   ]
  },
  {
   "cell_type": "code",
   "execution_count": 11,
   "metadata": {
    "collapsed": true
   },
   "outputs": [],
   "source": [
    "df = df.filter(df.tweet.isNotNull())"
   ]
  },
  {
   "cell_type": "code",
   "execution_count": 12,
   "metadata": {},
   "outputs": [
    {
     "name": "stdout",
     "output_type": "stream",
     "text": [
      "+----+-----+-------+---------+\n",
      "|date|tweet|id_user|wordCount|\n",
      "+----+-----+-------+---------+\n",
      "|   1|    0|   4598|        0|\n",
      "+----+-----+-------+---------+\n",
      "\n"
     ]
    }
   ],
   "source": [
    "df.select([count(when(isnan(c) | col(c).isNull(), c)).alias(c) for c in df.columns]).show()"
   ]
  },
  {
   "cell_type": "markdown",
   "metadata": {},
   "source": [
    "## Word Count"
   ]
  },
  {
   "cell_type": "code",
   "execution_count": 8,
   "metadata": {},
   "outputs": [
    {
     "name": "stdout",
     "output_type": "stream",
     "text": [
      "+----------------+--------------------+------------------+---------+\n",
      "|            date|               tweet|      id_user_long|wordCount|\n",
      "+----------------+--------------------+------------------+---------+\n",
      "|12/25/2017 11:00|#Bitcoin Is Alrea...|945323495235481600|       20|\n",
      "|12/25/2017 11:00|bitcoin $ BTCUSD ...|945323493079617536|        8|\n",
      "|12/25/2017 11:00|Tire suas dúvidas...|945323491817082881|        7|\n",
      "+----------------+--------------------+------------------+---------+\n",
      "only showing top 3 rows\n",
      "\n"
     ]
    }
   ],
   "source": [
    "df = df.withColumn('wordCount', size(split(col('tweet'), ' ')))\n",
    "df.show(3)"
   ]
  },
  {
   "cell_type": "code",
   "execution_count": null,
   "metadata": {
    "collapsed": true
   },
   "outputs": [],
   "source": []
  },
  {
   "cell_type": "markdown",
   "metadata": {},
   "source": [
    "## Clean tweets"
   ]
  },
  {
   "cell_type": "code",
   "execution_count": 13,
   "metadata": {},
   "outputs": [
    {
     "name": "stdout",
     "output_type": "stream",
     "text": [
      "+----------------+--------------------+------------------+---------+--------------------+\n",
      "|            date|               tweet|           id_user|wordCount|      cleaned_tweets|\n",
      "+----------------+--------------------+------------------+---------+--------------------+\n",
      "|12/25/2017 11:00|#Bitcoin Is Alrea...|945323495235481600|       20|bitcoin already b...|\n",
      "|12/25/2017 11:00|bitcoin $ BTCUSD ...|945323493079617536|        8|bitcoin btcusd tr...|\n",
      "|12/25/2017 11:00|Tire suas dúvidas...|945323491817082881|        7|tire suas d vidas...|\n",
      "+----------------+--------------------+------------------+---------+--------------------+\n",
      "only showing top 3 rows\n",
      "\n"
     ]
    }
   ],
   "source": [
    "def clean_tweet(tweet):\n",
    "    '''\n",
    "        Utility function to clean the text in a tweet by removing: stop words, links, special characters using regex.\n",
    "    Args:\n",
    "        tweet: DataFrame column 'text'\n",
    "    Returns:\n",
    "        DataFrame\n",
    "    '''\n",
    "    tweet = str(tweet)\n",
    "    tweet = tweet.lower()\n",
    "    tweet = [word for word in tweet.split() if word not in stop]\n",
    "    return ' '.join(re.sub(\"(@[A-Za-z0-9]+)|([^0-9A-Za-z \\t])|(\\w+:\\/\\/\\S+)\", \" \", str(tweet)).split())\n",
    "\n",
    "func_udf =  udf(clean_tweet, StringType())\n",
    "df = df.withColumn('cleaned_tweets', func_udf(df['tweet']))\n",
    "df.show(3)"
   ]
  },
  {
   "cell_type": "code",
   "execution_count": 15,
   "metadata": {},
   "outputs": [
    {
     "name": "stdout",
     "output_type": "stream",
     "text": [
      "+----------------+--------------------+------------------+---------+--------------------+------------------------+\n",
      "|            date|               tweet|           id_user|wordCount|      cleaned_tweets|word_count_tweet_cleaned|\n",
      "+----------------+--------------------+------------------+---------+--------------------+------------------------+\n",
      "|12/25/2017 11:00|#Bitcoin Is Alrea...|945323495235481600|       20|bitcoin already b...|                      20|\n",
      "|12/25/2017 11:00|bitcoin $ BTCUSD ...|945323493079617536|        8|bitcoin btcusd tr...|                      11|\n",
      "|12/25/2017 11:00|Tire suas dúvidas...|945323491817082881|        7|tire suas d vidas...|                       9|\n",
      "+----------------+--------------------+------------------+---------+--------------------+------------------------+\n",
      "only showing top 3 rows\n",
      "\n"
     ]
    }
   ],
   "source": [
    "df = df.withColumn('word_count_tweet_cleaned', size(split(col('cleaned_tweets'), ' ')))\n",
    "df.show(3)"
   ]
  },
  {
   "cell_type": "code",
   "execution_count": 19,
   "metadata": {
    "collapsed": true
   },
   "outputs": [],
   "source": [
    "df = df.drop('wordCount', 'word_count_tweet_cleaned')\n"
   ]
  },
  {
   "cell_type": "markdown",
   "metadata": {},
   "source": [
    "## Sentiment analysis:  Vader"
   ]
  },
  {
   "cell_type": "code",
   "execution_count": 20,
   "metadata": {},
   "outputs": [
    {
     "name": "stdout",
     "output_type": "stream",
     "text": [
      "+----------------+--------------------+------------------+--------------------+---------------+\n",
      "|            date|               tweet|           id_user|      cleaned_tweets|sentiment_vader|\n",
      "+----------------+--------------------+------------------+--------------------+---------------+\n",
      "|12/25/2017 11:00|#Bitcoin Is Alrea...|945323495235481600|bitcoin already b...|           0.13|\n",
      "|12/25/2017 11:00|bitcoin $ BTCUSD ...|945323493079617536|bitcoin btcusd tr...|            0.0|\n",
      "|12/25/2017 11:00|Tire suas dúvidas...|945323491817082881|tire suas d vidas...|            0.0|\n",
      "+----------------+--------------------+------------------+--------------------+---------------+\n",
      "only showing top 3 rows\n",
      "\n"
     ]
    }
   ],
   "source": [
    "analyser = SentimentIntensityAnalyzer()\n",
    "\n",
    "def analyze_sentiment_v(sentence):\n",
    "    snt = analyser.polarity_scores(sentence)\n",
    "    return ([snt['neg'], snt['neu'], snt['pos'], snt['compound']])\n",
    "    #return (snt['compound'])\n",
    "\n",
    "func_udf2 = udf(analyze_sentiment_v, ArrayType(FloatType()))\n",
    "df = df.withColumn('sentiment_vader', func_udf2(df['cleaned_tweets'])[0])\n",
    "df.show(3)"
   ]
  },
  {
   "cell_type": "code",
   "execution_count": 21,
   "metadata": {},
   "outputs": [
    {
     "name": "stdout",
     "output_type": "stream",
     "text": [
      "+----------------+-----+\n",
      "|            date|count|\n",
      "+----------------+-----+\n",
      "|12/22/2017 10:15|  342|\n",
      "|12/22/2017 10:00|  305|\n",
      "|12/22/2017 12:00|  279|\n",
      "|12/22/2017 11:15|  276|\n",
      "| 12/22/2017 9:30|  275|\n",
      "| 12/22/2017 9:15|  255|\n",
      "|12/22/2017 11:00|  253|\n",
      "|12/22/2017 13:00|  252|\n",
      "| 12/22/2017 9:00|  252|\n",
      "|12/22/2017 10:30|  248|\n",
      "+----------------+-----+\n",
      "only showing top 10 rows\n",
      "\n"
     ]
    }
   ],
   "source": [
    "df.groupBy('date').count().orderBy('count', ascending=False).show(10)"
   ]
  },
  {
   "cell_type": "code",
   "execution_count": null,
   "metadata": {
    "collapsed": true
   },
   "outputs": [],
   "source": []
  },
  {
   "cell_type": "code",
   "execution_count": 10,
   "metadata": {
    "collapsed": true
   },
   "outputs": [],
   "source": []
  },
  {
   "cell_type": "code",
   "execution_count": null,
   "metadata": {
    "collapsed": true
   },
   "outputs": [],
   "source": []
  },
  {
   "cell_type": "code",
   "execution_count": null,
   "metadata": {
    "collapsed": true
   },
   "outputs": [],
   "source": []
  },
  {
   "cell_type": "markdown",
   "metadata": {},
   "source": [
    "### archived"
   ]
  },
  {
   "cell_type": "code",
   "execution_count": null,
   "metadata": {
    "collapsed": true
   },
   "outputs": [],
   "source": [
    "# https://datascience.stackexchange.com/questions/13123/import-csv-file-contents-into-pyspark-dataframes\n",
    "# ps_df = sql.read.format(\"com.databricks.spark.csv\")\n",
    "#                 .options(header=\"true\", inferschema='true')\n",
    "#                 .load(\"data/output_2018-11-11-to-2014-12-31-1000-perdate.csv\")"
   ]
  },
  {
   "cell_type": "code",
   "execution_count": null,
   "metadata": {
    "collapsed": true
   },
   "outputs": [],
   "source": [
    "## Sentiment analysis: Text Blob \n",
    "#https://github.com/harishpuvvada/BitCoin-Value-Predictor/blob/master/Data_PreProcessing.ipynb\n",
    "def analyze_sentiment_tb(tweet):\n",
    "    '''\n",
    "        Classify the polarity of a tweet using textblob.\n",
    "    Args:\n",
    "        tweet:\n",
    "    Returns:\n",
    "    \n",
    "    '''\n",
    "    analysis = TextBlob(tweet)\n",
    "    polarity = analysis.sentiment.polarity\n",
    "    return polarity\n",
    "    \n",
    "func_udf2 = udf(analyze_sentiment_tb, ArrayType(FloatType()))\n",
    "df = df.withColumn('sentiment_txtblob', func_udf2(df['cleaned_tweets'])[0])\n",
    "df.show(3)"
   ]
  },
  {
   "cell_type": "code",
   "execution_count": null,
   "metadata": {
    "collapsed": true
   },
   "outputs": [],
   "source": [
    "#ps_df = ps_df.selectExpr('date','permalink','cleaned_tweets','sentiment_vader','wordCount')"
   ]
  }
 ],
 "metadata": {
  "anaconda-cloud": {},
  "kernelspec": {
   "display_name": "py36_udacity_ai",
   "language": "python",
   "name": "py36_udacity_ai"
  },
  "language_info": {
   "codemirror_mode": {
    "name": "ipython",
    "version": 3
   },
   "file_extension": ".py",
   "mimetype": "text/x-python",
   "name": "python",
   "nbconvert_exporter": "python",
   "pygments_lexer": "ipython3",
   "version": "3.6.10"
  }
 },
 "nbformat": 4,
 "nbformat_minor": 1
}

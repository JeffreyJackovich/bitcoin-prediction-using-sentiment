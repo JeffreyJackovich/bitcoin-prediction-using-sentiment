{
 "cells": [
  {
   "cell_type": "code",
   "execution_count": 1,
   "metadata": {
    "collapsed": false
   },
   "outputs": [],
   "source": [
    "# data analysis and wrangling\n",
    "import pandas as pd\n",
    "import numpy as np\n",
    "import os\n",
    "import datetime\n",
    "pd.options.display.float_format = '{:.1f}'.format\n",
    "pd.set_option('display.max_columns', 500)\n",
    "from __future__ import print_function\n",
    "import math\n",
    "import csv\n",
    "import glob\n",
    "\n",
    "# visualization\n",
    "from IPython import display\n",
    "import seaborn as sns\n",
    "import matplotlib.pyplot as plt\n",
    "import matplotlib.dates as mdates\n",
    "from matplotlib import cm\n",
    "\n",
    "#sentiment analysis\n",
    "from textblob import TextBlob\n",
    "import re\n",
    "import nltk\n",
    "from nltk.corpus import stopwords\n",
    "stop = stopwords.words('english')\n",
    "#from vaderSentiment.vaderSentiment import SentimentIntensityAnalyzer"
   ]
  },
  {
   "cell_type": "code",
   "execution_count": null,
   "metadata": {
    "collapsed": true
   },
   "outputs": [],
   "source": [
    "# download stop words\n",
    "#nltk.download('stopwords')\n",
    "# display stopwords\n",
    "#np.array(stop)"
   ]
  },
  {
   "cell_type": "code",
   "execution_count": 2,
   "metadata": {
    "collapsed": true
   },
   "outputs": [],
   "source": [
    "# encoding='utf-8'\n",
    "# encoding = \"ISO-8859-1\",\n",
    "# error_bad_lines=False,\n",
    "tweet_df = pd.read_csv('data/btc_tweets_1418244_unique.csv', \n",
    "                       encoding='utf-8',\n",
    "                       header=0, \n",
    "                       engine='python',\n",
    "                       error_bad_lines=False,\n",
    "                       usecols=[0,1,2,3,4,5])"
   ]
  },
  {
   "cell_type": "code",
   "execution_count": 7,
   "metadata": {
    "collapsed": true
   },
   "outputs": [
    {
     "data": {
      "text/html": [
       "<div>\n",
       "<style scoped>\n",
       "    .dataframe tbody tr th:only-of-type {\n",
       "        vertical-align: middle;\n",
       "    }\n",
       "\n",
       "    .dataframe tbody tr th {\n",
       "        vertical-align: top;\n",
       "    }\n",
       "\n",
       "    .dataframe thead th {\n",
       "        text-align: right;\n",
       "    }\n",
       "</style>\n",
       "<table border=\"1\" class=\"dataframe\">\n",
       "  <thead>\n",
       "    <tr style=\"text-align: right;\">\n",
       "      <th></th>\n",
       "      <th>date</th>\n",
       "      <th>id</th>\n",
       "      <th>text</th>\n",
       "      <th>permalink</th>\n",
       "      <th>permalink_uid</th>\n",
       "      <th>username</th>\n",
       "    </tr>\n",
       "  </thead>\n",
       "  <tbody>\n",
       "    <tr>\n",
       "      <th>count</th>\n",
       "      <td>1601769</td>\n",
       "      <td>1599678</td>\n",
       "      <td>1601481</td>\n",
       "      <td>1601770</td>\n",
       "      <td>1598266</td>\n",
       "      <td>1598379</td>\n",
       "    </tr>\n",
       "    <tr>\n",
       "      <th>unique</th>\n",
       "      <td>783054</td>\n",
       "      <td>770952</td>\n",
       "      <td>1389005</td>\n",
       "      <td>1421819</td>\n",
       "      <td>1418243</td>\n",
       "      <td>321801</td>\n",
       "    </tr>\n",
       "    <tr>\n",
       "      <th>top</th>\n",
       "      <td>12/22/2017 10:15</td>\n",
       "      <td>9.44E+17</td>\n",
       "      <td>Jual Beli BitCoin Murah Aman Terpercaya https:...</td>\n",
       "      <td>https://twitter.com/bitcoinagile/status/104001...</td>\n",
       "      <td>1036756442743599104</td>\n",
       "      <td>bitcoinfirehose</td>\n",
       "    </tr>\n",
       "    <tr>\n",
       "      <th>freq</th>\n",
       "      <td>342</td>\n",
       "      <td>268610</td>\n",
       "      <td>1305</td>\n",
       "      <td>2</td>\n",
       "      <td>2</td>\n",
       "      <td>9391</td>\n",
       "    </tr>\n",
       "  </tbody>\n",
       "</table>\n",
       "</div>"
      ],
      "text/plain": [
       "                    date        id  \\\n",
       "count            1601769   1599678   \n",
       "unique            783054    770952   \n",
       "top     12/22/2017 10:15  9.44E+17   \n",
       "freq                 342    268610   \n",
       "\n",
       "                                                     text  \\\n",
       "count                                             1601481   \n",
       "unique                                            1389005   \n",
       "top     Jual Beli BitCoin Murah Aman Terpercaya https:...   \n",
       "freq                                                 1305   \n",
       "\n",
       "                                                permalink  \\\n",
       "count                                             1601770   \n",
       "unique                                            1421819   \n",
       "top     https://twitter.com/bitcoinagile/status/104001...   \n",
       "freq                                                    2   \n",
       "\n",
       "              permalink_uid         username  \n",
       "count               1598266          1598379  \n",
       "unique              1418243           321801  \n",
       "top     1036756442743599104  bitcoinfirehose  \n",
       "freq                      2             9391  "
      ]
     },
     "execution_count": 7,
     "metadata": {},
     "output_type": "execute_result"
    }
   ],
   "source": [
    "tweet_df.describe()"
   ]
  },
  {
   "cell_type": "code",
   "execution_count": 3,
   "metadata": {
    "collapsed": false
   },
   "outputs": [
    {
     "data": {
      "text/html": [
       "<div>\n",
       "<style scoped>\n",
       "    .dataframe tbody tr th:only-of-type {\n",
       "        vertical-align: middle;\n",
       "    }\n",
       "\n",
       "    .dataframe tbody tr th {\n",
       "        vertical-align: top;\n",
       "    }\n",
       "\n",
       "    .dataframe thead th {\n",
       "        text-align: right;\n",
       "    }\n",
       "</style>\n",
       "<table border=\"1\" class=\"dataframe\">\n",
       "  <thead>\n",
       "    <tr style=\"text-align: right;\">\n",
       "      <th></th>\n",
       "      <th>date_time</th>\n",
       "      <th>id</th>\n",
       "      <th>text</th>\n",
       "      <th>permalink</th>\n",
       "      <th>permalink_uid</th>\n",
       "      <th>username</th>\n",
       "    </tr>\n",
       "  </thead>\n",
       "  <tbody>\n",
       "    <tr>\n",
       "      <th>0</th>\n",
       "      <td>12/25/2017 11:00</td>\n",
       "      <td>9.45E+17</td>\n",
       "      <td>#Bitcoin Is Already Bouncing Back After the Bi...</td>\n",
       "      <td>https://twitter.com/wampei/status/945323495235...</td>\n",
       "      <td>945323495235481600</td>\n",
       "      <td>wampei</td>\n",
       "    </tr>\n",
       "    <tr>\n",
       "      <th>1</th>\n",
       "      <td>12/25/2017 11:00</td>\n",
       "      <td>9.45E+17</td>\n",
       "      <td>bitcoin $ BTCUSD http://www. tradingview.com/c...</td>\n",
       "      <td>https://twitter.com/cryptosbuy/status/94532349...</td>\n",
       "      <td>945323493079617536</td>\n",
       "      <td>cryptosbuy</td>\n",
       "    </tr>\n",
       "    <tr>\n",
       "      <th>2</th>\n",
       "      <td>12/25/2017 11:00</td>\n",
       "      <td>9.45E+17</td>\n",
       "      <td>Tire suas dúvidas sobre Bitcoin http:// ow.ly/...</td>\n",
       "      <td>https://twitter.com/CDS_news/status/9453234918...</td>\n",
       "      <td>945323491817082881</td>\n",
       "      <td>CDS_news</td>\n",
       "    </tr>\n",
       "    <tr>\n",
       "      <th>4</th>\n",
       "      <td>12/25/2017 11:00</td>\n",
       "      <td>9.45E+17</td>\n",
       "      <td>Five Reasons #Bitcoin Will Be Your Best High-G...</td>\n",
       "      <td>https://twitter.com/SatoshiPoint/status/945323...</td>\n",
       "      <td>945323481411047426</td>\n",
       "      <td>SatoshiPoint</td>\n",
       "    </tr>\n",
       "    <tr>\n",
       "      <th>5</th>\n",
       "      <td>12/25/2017 11:00</td>\n",
       "      <td>9.45E+17</td>\n",
       "      <td>#الفوركس #форекс #外汇 #外匯 #Forex #تحليل_فني #فو...</td>\n",
       "      <td>https://twitter.com/CityofInvestmnt/status/945...</td>\n",
       "      <td>945323480744112129</td>\n",
       "      <td>CityofInvestmnt</td>\n",
       "    </tr>\n",
       "  </tbody>\n",
       "</table>\n",
       "</div>"
      ],
      "text/plain": [
       "          date_time        id  \\\n",
       "0  12/25/2017 11:00  9.45E+17   \n",
       "1  12/25/2017 11:00  9.45E+17   \n",
       "2  12/25/2017 11:00  9.45E+17   \n",
       "4  12/25/2017 11:00  9.45E+17   \n",
       "5  12/25/2017 11:00  9.45E+17   \n",
       "\n",
       "                                                text  \\\n",
       "0  #Bitcoin Is Already Bouncing Back After the Bi...   \n",
       "1  bitcoin $ BTCUSD http://www. tradingview.com/c...   \n",
       "2  Tire suas dúvidas sobre Bitcoin http:// ow.ly/...   \n",
       "4  Five Reasons #Bitcoin Will Be Your Best High-G...   \n",
       "5  #الفوركس #форекс #外汇 #外匯 #Forex #تحليل_فني #فو...   \n",
       "\n",
       "                                           permalink       permalink_uid  \\\n",
       "0  https://twitter.com/wampei/status/945323495235...  945323495235481600   \n",
       "1  https://twitter.com/cryptosbuy/status/94532349...  945323493079617536   \n",
       "2  https://twitter.com/CDS_news/status/9453234918...  945323491817082881   \n",
       "4  https://twitter.com/SatoshiPoint/status/945323...  945323481411047426   \n",
       "5  https://twitter.com/CityofInvestmnt/status/945...  945323480744112129   \n",
       "\n",
       "          username  \n",
       "0           wampei  \n",
       "1       cryptosbuy  \n",
       "2         CDS_news  \n",
       "4     SatoshiPoint  \n",
       "5  CityofInvestmnt  "
      ]
     },
     "execution_count": 3,
     "metadata": {},
     "output_type": "execute_result"
    }
   ],
   "source": [
    "tweet_df = tweet_df.rename(columns={\"date\":\"date_time\"})\n",
    "tweet_df.head()"
   ]
  },
  {
   "cell_type": "code",
   "execution_count": 4,
   "metadata": {
    "collapsed": false
   },
   "outputs": [
    {
     "name": "stdout",
     "output_type": "stream",
     "text": [
      "Total null prices: 1\n"
     ]
    }
   ],
   "source": [
    "# check for NAN's in date_time\n",
    "print('Total null prices: %s' % tweet_df['date_time'].isnull().sum())"
   ]
  },
  {
   "cell_type": "code",
   "execution_count": 5,
   "metadata": {
    "collapsed": false
   },
   "outputs": [
    {
     "data": {
      "text/html": [
       "<div>\n",
       "<style scoped>\n",
       "    .dataframe tbody tr th:only-of-type {\n",
       "        vertical-align: middle;\n",
       "    }\n",
       "\n",
       "    .dataframe tbody tr th {\n",
       "        vertical-align: top;\n",
       "    }\n",
       "\n",
       "    .dataframe thead th {\n",
       "        text-align: right;\n",
       "    }\n",
       "</style>\n",
       "<table border=\"1\" class=\"dataframe\">\n",
       "  <thead>\n",
       "    <tr style=\"text-align: right;\">\n",
       "      <th></th>\n",
       "      <th>date_time</th>\n",
       "      <th>id</th>\n",
       "      <th>text</th>\n",
       "      <th>permalink</th>\n",
       "      <th>permalink_uid</th>\n",
       "      <th>username</th>\n",
       "    </tr>\n",
       "  </thead>\n",
       "  <tbody>\n",
       "    <tr>\n",
       "      <th>1001511</th>\n",
       "      <td>NaN</td>\n",
       "      <td>353.0</td>\n",
       "      <td>925</td>\n",
       "      <td>269;;;#Cryptocurrencies #Bitcoin #Ripple #Ethe...</td>\n",
       "      <td>946816140365434881</td>\n",
       "      <td>coindromeda</td>\n",
       "    </tr>\n",
       "  </tbody>\n",
       "</table>\n",
       "</div>"
      ],
      "text/plain": [
       "        date_time     id text  \\\n",
       "1001511       NaN  353.0  925   \n",
       "\n",
       "                                                 permalink  \\\n",
       "1001511  269;;;#Cryptocurrencies #Bitcoin #Ripple #Ethe...   \n",
       "\n",
       "              permalink_uid     username  \n",
       "1001511  946816140365434881  coindromeda  "
      ]
     },
     "execution_count": 5,
     "metadata": {},
     "output_type": "execute_result"
    }
   ],
   "source": [
    "# select row with NAN's in Close price\n",
    "tweet_df[tweet_df['date_time'].isnull()]"
   ]
  },
  {
   "cell_type": "code",
   "execution_count": 6,
   "metadata": {
    "collapsed": true
   },
   "outputs": [],
   "source": [
    "# if NAN's then drop them\n",
    "tweet_df = tweet_df.dropna(subset=['date_time'])"
   ]
  },
  {
   "cell_type": "code",
   "execution_count": 7,
   "metadata": {
    "collapsed": false
   },
   "outputs": [
    {
     "data": {
      "text/html": [
       "<div>\n",
       "<style scoped>\n",
       "    .dataframe tbody tr th:only-of-type {\n",
       "        vertical-align: middle;\n",
       "    }\n",
       "\n",
       "    .dataframe tbody tr th {\n",
       "        vertical-align: top;\n",
       "    }\n",
       "\n",
       "    .dataframe thead th {\n",
       "        text-align: right;\n",
       "    }\n",
       "</style>\n",
       "<table border=\"1\" class=\"dataframe\">\n",
       "  <thead>\n",
       "    <tr style=\"text-align: right;\">\n",
       "      <th></th>\n",
       "      <th>date_time</th>\n",
       "      <th>id</th>\n",
       "      <th>text</th>\n",
       "      <th>permalink</th>\n",
       "      <th>permalink_uid</th>\n",
       "      <th>username</th>\n",
       "      <th>date</th>\n",
       "    </tr>\n",
       "  </thead>\n",
       "  <tbody>\n",
       "    <tr>\n",
       "      <th>0</th>\n",
       "      <td>12/25/2017 11:00</td>\n",
       "      <td>9.45E+17</td>\n",
       "      <td>#Bitcoin Is Already Bouncing Back After the Bi...</td>\n",
       "      <td>https://twitter.com/wampei/status/945323495235...</td>\n",
       "      <td>945323495235481600</td>\n",
       "      <td>wampei</td>\n",
       "      <td>2017-12-25</td>\n",
       "    </tr>\n",
       "    <tr>\n",
       "      <th>1</th>\n",
       "      <td>12/25/2017 11:00</td>\n",
       "      <td>9.45E+17</td>\n",
       "      <td>bitcoin $ BTCUSD http://www. tradingview.com/c...</td>\n",
       "      <td>https://twitter.com/cryptosbuy/status/94532349...</td>\n",
       "      <td>945323493079617536</td>\n",
       "      <td>cryptosbuy</td>\n",
       "      <td>2017-12-25</td>\n",
       "    </tr>\n",
       "    <tr>\n",
       "      <th>2</th>\n",
       "      <td>12/25/2017 11:00</td>\n",
       "      <td>9.45E+17</td>\n",
       "      <td>Tire suas dúvidas sobre Bitcoin http:// ow.ly/...</td>\n",
       "      <td>https://twitter.com/CDS_news/status/9453234918...</td>\n",
       "      <td>945323491817082881</td>\n",
       "      <td>CDS_news</td>\n",
       "      <td>2017-12-25</td>\n",
       "    </tr>\n",
       "    <tr>\n",
       "      <th>4</th>\n",
       "      <td>12/25/2017 11:00</td>\n",
       "      <td>9.45E+17</td>\n",
       "      <td>Five Reasons #Bitcoin Will Be Your Best High-G...</td>\n",
       "      <td>https://twitter.com/SatoshiPoint/status/945323...</td>\n",
       "      <td>945323481411047426</td>\n",
       "      <td>SatoshiPoint</td>\n",
       "      <td>2017-12-25</td>\n",
       "    </tr>\n",
       "    <tr>\n",
       "      <th>5</th>\n",
       "      <td>12/25/2017 11:00</td>\n",
       "      <td>9.45E+17</td>\n",
       "      <td>#الفوركس #форекс #外汇 #外匯 #Forex #تحليل_فني #فو...</td>\n",
       "      <td>https://twitter.com/CityofInvestmnt/status/945...</td>\n",
       "      <td>945323480744112129</td>\n",
       "      <td>CityofInvestmnt</td>\n",
       "      <td>2017-12-25</td>\n",
       "    </tr>\n",
       "  </tbody>\n",
       "</table>\n",
       "</div>"
      ],
      "text/plain": [
       "          date_time        id  \\\n",
       "0  12/25/2017 11:00  9.45E+17   \n",
       "1  12/25/2017 11:00  9.45E+17   \n",
       "2  12/25/2017 11:00  9.45E+17   \n",
       "4  12/25/2017 11:00  9.45E+17   \n",
       "5  12/25/2017 11:00  9.45E+17   \n",
       "\n",
       "                                                text  \\\n",
       "0  #Bitcoin Is Already Bouncing Back After the Bi...   \n",
       "1  bitcoin $ BTCUSD http://www. tradingview.com/c...   \n",
       "2  Tire suas dúvidas sobre Bitcoin http:// ow.ly/...   \n",
       "4  Five Reasons #Bitcoin Will Be Your Best High-G...   \n",
       "5  #الفوركس #форекс #外汇 #外匯 #Forex #تحليل_فني #فو...   \n",
       "\n",
       "                                           permalink       permalink_uid  \\\n",
       "0  https://twitter.com/wampei/status/945323495235...  945323495235481600   \n",
       "1  https://twitter.com/cryptosbuy/status/94532349...  945323493079617536   \n",
       "2  https://twitter.com/CDS_news/status/9453234918...  945323491817082881   \n",
       "4  https://twitter.com/SatoshiPoint/status/945323...  945323481411047426   \n",
       "5  https://twitter.com/CityofInvestmnt/status/945...  945323480744112129   \n",
       "\n",
       "          username        date  \n",
       "0           wampei  2017-12-25  \n",
       "1       cryptosbuy  2017-12-25  \n",
       "2         CDS_news  2017-12-25  \n",
       "4     SatoshiPoint  2017-12-25  \n",
       "5  CityofInvestmnt  2017-12-25  "
      ]
     },
     "execution_count": 7,
     "metadata": {},
     "output_type": "execute_result"
    }
   ],
   "source": [
    "# modify date-time column \n",
    "tweet_df[\"date\"] = pd.to_datetime(tweet_df[\"date_time\"], errors='coerce').dt.strftime('%Y-%m-%d')\n",
    "tweet_df.head()"
   ]
  },
  {
   "cell_type": "code",
   "execution_count": 8,
   "metadata": {
    "collapsed": false
   },
   "outputs": [
    {
     "data": {
      "text/html": [
       "<div>\n",
       "<style scoped>\n",
       "    .dataframe tbody tr th:only-of-type {\n",
       "        vertical-align: middle;\n",
       "    }\n",
       "\n",
       "    .dataframe tbody tr th {\n",
       "        vertical-align: top;\n",
       "    }\n",
       "\n",
       "    .dataframe thead th {\n",
       "        text-align: right;\n",
       "    }\n",
       "</style>\n",
       "<table border=\"1\" class=\"dataframe\">\n",
       "  <thead>\n",
       "    <tr style=\"text-align: right;\">\n",
       "      <th></th>\n",
       "      <th>date</th>\n",
       "      <th>date_time</th>\n",
       "      <th>id</th>\n",
       "      <th>permalink</th>\n",
       "      <th>permalink_uid</th>\n",
       "      <th>username</th>\n",
       "      <th>text</th>\n",
       "    </tr>\n",
       "  </thead>\n",
       "  <tbody>\n",
       "    <tr>\n",
       "      <th>0</th>\n",
       "      <td>2017-12-25</td>\n",
       "      <td>12/25/2017 11:00</td>\n",
       "      <td>9.45E+17</td>\n",
       "      <td>https://twitter.com/wampei/status/945323495235...</td>\n",
       "      <td>945323495235481600</td>\n",
       "      <td>wampei</td>\n",
       "      <td>#Bitcoin Is Already Bouncing Back After the Bi...</td>\n",
       "    </tr>\n",
       "    <tr>\n",
       "      <th>1</th>\n",
       "      <td>2017-12-25</td>\n",
       "      <td>12/25/2017 11:00</td>\n",
       "      <td>9.45E+17</td>\n",
       "      <td>https://twitter.com/cryptosbuy/status/94532349...</td>\n",
       "      <td>945323493079617536</td>\n",
       "      <td>cryptosbuy</td>\n",
       "      <td>bitcoin $ BTCUSD http://www. tradingview.com/c...</td>\n",
       "    </tr>\n",
       "    <tr>\n",
       "      <th>2</th>\n",
       "      <td>2017-12-25</td>\n",
       "      <td>12/25/2017 11:00</td>\n",
       "      <td>9.45E+17</td>\n",
       "      <td>https://twitter.com/CDS_news/status/9453234918...</td>\n",
       "      <td>945323491817082881</td>\n",
       "      <td>CDS_news</td>\n",
       "      <td>Tire suas dúvidas sobre Bitcoin http:// ow.ly/...</td>\n",
       "    </tr>\n",
       "    <tr>\n",
       "      <th>4</th>\n",
       "      <td>2017-12-25</td>\n",
       "      <td>12/25/2017 11:00</td>\n",
       "      <td>9.45E+17</td>\n",
       "      <td>https://twitter.com/SatoshiPoint/status/945323...</td>\n",
       "      <td>945323481411047426</td>\n",
       "      <td>SatoshiPoint</td>\n",
       "      <td>Five Reasons #Bitcoin Will Be Your Best High-G...</td>\n",
       "    </tr>\n",
       "    <tr>\n",
       "      <th>5</th>\n",
       "      <td>2017-12-25</td>\n",
       "      <td>12/25/2017 11:00</td>\n",
       "      <td>9.45E+17</td>\n",
       "      <td>https://twitter.com/CityofInvestmnt/status/945...</td>\n",
       "      <td>945323480744112129</td>\n",
       "      <td>CityofInvestmnt</td>\n",
       "      <td>#الفوركس #форекс #外汇 #外匯 #Forex #تحليل_فني #فو...</td>\n",
       "    </tr>\n",
       "  </tbody>\n",
       "</table>\n",
       "</div>"
      ],
      "text/plain": [
       "         date         date_time        id  \\\n",
       "0  2017-12-25  12/25/2017 11:00  9.45E+17   \n",
       "1  2017-12-25  12/25/2017 11:00  9.45E+17   \n",
       "2  2017-12-25  12/25/2017 11:00  9.45E+17   \n",
       "4  2017-12-25  12/25/2017 11:00  9.45E+17   \n",
       "5  2017-12-25  12/25/2017 11:00  9.45E+17   \n",
       "\n",
       "                                           permalink       permalink_uid  \\\n",
       "0  https://twitter.com/wampei/status/945323495235...  945323495235481600   \n",
       "1  https://twitter.com/cryptosbuy/status/94532349...  945323493079617536   \n",
       "2  https://twitter.com/CDS_news/status/9453234918...  945323491817082881   \n",
       "4  https://twitter.com/SatoshiPoint/status/945323...  945323481411047426   \n",
       "5  https://twitter.com/CityofInvestmnt/status/945...  945323480744112129   \n",
       "\n",
       "          username                                               text  \n",
       "0           wampei  #Bitcoin Is Already Bouncing Back After the Bi...  \n",
       "1       cryptosbuy  bitcoin $ BTCUSD http://www. tradingview.com/c...  \n",
       "2         CDS_news  Tire suas dúvidas sobre Bitcoin http:// ow.ly/...  \n",
       "4     SatoshiPoint  Five Reasons #Bitcoin Will Be Your Best High-G...  \n",
       "5  CityofInvestmnt  #الفوركس #форекс #外汇 #外匯 #Forex #تحليل_فني #فو...  "
      ]
     },
     "execution_count": 8,
     "metadata": {},
     "output_type": "execute_result"
    }
   ],
   "source": [
    "# re-order column headers\n",
    "tweet_df = tweet_df[['date', 'date_time', 'id', 'permalink', 'permalink_uid', 'username', 'text']]\n",
    "tweet_df.head()"
   ]
  },
  {
   "cell_type": "code",
   "execution_count": null,
   "metadata": {
    "collapsed": true
   },
   "outputs": [],
   "source": []
  },
  {
   "cell_type": "markdown",
   "metadata": {},
   "source": [
    "### Tweet Analysis"
   ]
  },
  {
   "cell_type": "code",
   "execution_count": 11,
   "metadata": {
    "collapsed": true
   },
   "outputs": [],
   "source": [
    "tweet_df['text'] = tweet_df['text'].astype(str)"
   ]
  },
  {
   "cell_type": "code",
   "execution_count": 12,
   "metadata": {
    "collapsed": false
   },
   "outputs": [
    {
     "data": {
      "text/plain": [
       "count   1601769.0\n",
       "mean        147.5\n",
       "std          95.1\n",
       "min           1.0\n",
       "25%          96.0\n",
       "50%         132.0\n",
       "75%         190.0\n",
       "max       27681.0\n",
       "Name: tweet_len, dtype: float64"
      ]
     },
     "execution_count": 12,
     "metadata": {},
     "output_type": "execute_result"
    }
   ],
   "source": [
    "# number of characters in each tweet\n",
    "tweet_df['tweet_len'] =  tweet_df['text'].apply(len)\n",
    "tweet_df['tweet_len'].describe()"
   ]
  },
  {
   "cell_type": "code",
   "execution_count": 13,
   "metadata": {
    "collapsed": true
   },
   "outputs": [
    {
     "data": {
      "image/png": "[encoded data removed]",
      "text/plain": [
       "<matplotlib.figure.Figure at 0x17f7026c358>"
      ]
     },
     "metadata": {},
     "output_type": "display_data"
    }
   ],
   "source": [
    "tweet_df['tweet_len'].plot(kind='hist', bins=30, figsize=(12,6))\n",
    "plt.show()"
   ]
  },
  {
   "cell_type": "code",
   "execution_count": 17,
   "metadata": {
    "collapsed": true
   },
   "outputs": [],
   "source": [
    "tweet_df = tweet_df.drop(tweet_df[tweet_df['tweet_len'] > 400].index)\n"
   ]
  },
  {
   "cell_type": "code",
   "execution_count": 18,
   "metadata": {
    "collapsed": false
   },
   "outputs": [
    {
     "data": {
      "text/plain": [
       "count   1597286.0\n",
       "mean        146.7\n",
       "std          72.8\n",
       "min           1.0\n",
       "25%          96.0\n",
       "50%         132.0\n",
       "75%         189.0\n",
       "max         400.0\n",
       "Name: tweet_len, dtype: float64"
      ]
     },
     "execution_count": 18,
     "metadata": {},
     "output_type": "execute_result"
    }
   ],
   "source": [
    "tweet_df['tweet_len'].describe()"
   ]
  },
  {
   "cell_type": "code",
   "execution_count": 19,
   "metadata": {
    "collapsed": false
   },
   "outputs": [
    {
     "data": {
      "image/png": "[encoded data removed]",
      "text/plain": [
       "<matplotlib.figure.Figure at 0x17f60776a58>"
      ]
     },
     "metadata": {},
     "output_type": "display_data"
    }
   ],
   "source": [
    "tweet_df['tweet_len'].plot(kind='hist', bins=30, figsize=(12,6))\n",
    "plt.show()"
   ]
  },
  {
   "cell_type": "code",
   "execution_count": 41,
   "metadata": {
    "collapsed": true
   },
   "outputs": [
    {
     "data": {
      "text/plain": [
       "125331    come back prize turkey less five minutes i ll ...\n",
       "127221    bitcoin fb me 44wdne8my 945277661504352256 per...\n",
       "127881    hemos hablado de tica en tiempos de superviven...\n",
       "129726    think price bitcoin bubble said israel s chief...\n",
       "130210    bitcoin banking looked like middle ages here s...\n",
       "139247    number crypto investors hodlers remains somewh...\n",
       "158579    money spent bitcoin cash registers nobody went...\n",
       "187713    kenapa orang ingin bitcoin atau mata uang alte...\n",
       "188171    can t value bitcoin it s value producing asset...\n",
       "188611    reach 90 segwit adoption schnorr signatures ma...\n",
       "191563    reach 90 segwit adoption schnorr signatures ma...\n",
       "200798    common words use 10 years ago 1 social media 2...\n",
       "206377    meskipun memiliki banyak kelebihan bitcoin pun...\n",
       "223657    poker part 2 asian market nut well worth crack...\n",
       "228596    bitcoin transformative addition internet commu...\n",
       "251608    bitcoin transactions occur banks settle net tr...\n",
       "254710    poker bitcoin poker marriage made heaven read ...\n",
       "266788    blockchain hot right now bitcoin ignored like ...\n",
       "271179    bitcoin telexfree dos ricos cultos e descolado...\n",
       "284215    one wants succeed bitcoin business one cannot ...\n",
       "289620    ceos support multisignatureproject bitcoin blo...\n",
       "341933    inception bitcoin 2009 january 2011 market cap...\n",
       "342504    completely serious suggesting satoshi nakamoto...\n",
       "354566    since bitcoin borderless constructed platform ...\n",
       "354573    since bitcoin borderless constructed platform ...\n",
       "361707    see future car commerce is becoming fully auto...\n",
       "374392    riesiges pyramidenspiel treibt bitcoin kurs di...\n",
       "387959    status bitcoin w3c web payments work far preca...\n",
       "399697    open source project bitcoin process little mes...\n",
       "404976    status bitcoin w3c web payments work far preca...\n",
       "                                ...                        \n",
       "411807    status bitcoin w3c web payments work far preca...\n",
       "411896    status bitcoin w3c web payments work far preca...\n",
       "411940    status bitcoin w3c web payments work far preca...\n",
       "412165    status bitcoin w3c web payments work far preca...\n",
       "423236    naked selfies bitcoin new era digitaltrust med...\n",
       "427745    decentralized fintech exchange openledger laun...\n",
       "438764    blockchain new shining star spills bitcoin wor...\n",
       "447195    bitcoin price bulls driven china weekly rsi ne...\n",
       "450156    mmm this system simply amazing members good fa...\n",
       "450329    new bitcoin project mmmglobal bitcoins btc twi...\n",
       "491674    bitcoin price bulls driven china weekly rsi ne...\n",
       "496286    bitcoin like transistor give someone transisto...\n",
       "496318    bitcoin like transistor give someone transisto...\n",
       "500421    real innovation bitcoin digital cash technolog...\n",
       "501032    starting see slowdown series investments advis...\n",
       "501039    starting see slowdown series investments advis...\n",
       "523097    blockchains great chain sure things economist ...\n",
       "544248    real purpose of bitcoin remove censorship cent...\n",
       "554950    opportunity bcd btc alert app cryptocrown co p...\n",
       "554953    opportunity bcd btc alert app cryptocrown co p...\n",
       "557951    opportunity sbd btc alert app cryptocrown co p...\n",
       "559817    opportunity dat btc alert app cryptocrown co p...\n",
       "559819    opportunity dat btc alert app cryptocrown co p...\n",
       "570472    opportunity eth usd alert app cryptocrown co p...\n",
       "570473    opportunity eth usd alert app cryptocrown co p...\n",
       "571436    opportunity xmr eth alert app cryptocrown co p...\n",
       "571437    opportunity xmr eth alert app cryptocrown co p...\n",
       "573437    opportunity xmr eth alert app cryptocrown co p...\n",
       "595760    action tonight s lsu miami matchup y all think...\n",
       "674779    bitcoin mining firm coinmint confirms plans 70...\n",
       "Name: text_cleaned, Length: 72, dtype: object"
      ]
     },
     "execution_count": 41,
     "metadata": {},
     "output_type": "execute_result"
    }
   ],
   "source": [
    "#tweet_df[tweet_df['tweet_len'] > 179]['text_cleaned']\n",
    "#tweet_df[tweet_df['tweet_len'] > 1000]['text_cleaned']\n",
    "# view entire tweet\n",
    "#tweet_df[tweet_df['tweet_len'] > 179]['text_cleaned'].iloc[223657]\n",
    "#tweet_df[tweet_df['tweet_len'] > 10000]['text_cleaned'].iloc[223657]"
   ]
  },
  {
   "cell_type": "markdown",
   "metadata": {},
   "source": [
    "### Sentiment Analysis: textblob"
   ]
  },
  {
   "cell_type": "code",
   "execution_count": 20,
   "metadata": {
    "collapsed": true
   },
   "outputs": [],
   "source": [
    "\n",
    "def clean_tweet(tweet):\n",
    "    '''\n",
    "    Utility function to clean the text in a tweet by removing: stop words, links, special characters using regex.\n",
    "    Args:\n",
    "        tweet: DataFrame column 'text'\n",
    "    Returns:\n",
    "        \n",
    "    '''\n",
    "    tweet = str(tweet)\n",
    "    tweet = tweet.lower()\n",
    "    tweet = [word for word in tweet.split() if word not in stop]\n",
    "    return ' '.join(re.sub(\"(@[A-Za-z0-9]+)|([^0-9A-Za-z \\t])|(\\w+:\\/\\/\\S+)\", \" \", str(tweet)).split())\n",
    "\n",
    "def analyze_sentiment(tweet):\n",
    "    '''\n",
    "    Utility function to classify the polarity of a tweet using textblob.\n",
    "    Args:\n",
    "        tweet:\n",
    "    Returns:\n",
    "    \n",
    "    '''\n",
    "    analysis = TextBlob(clean_tweet(tweet))\n",
    "    if analysis.sentiment.polarity > 0:\n",
    "        return 1\n",
    "    elif analysis.sentiment.polarity == 0:\n",
    "        return 0\n",
    "    else:\n",
    "        return -1\n",
    "    \n"
   ]
  },
  {
   "cell_type": "code",
   "execution_count": 21,
   "metadata": {
    "collapsed": true
   },
   "outputs": [],
   "source": [
    "tweet_df['text_cleaned'] = tweet_df['text'].apply(clean_tweet)"
   ]
  },
  {
   "cell_type": "code",
   "execution_count": 22,
   "metadata": {
    "collapsed": true
   },
   "outputs": [],
   "source": [
    "tweet_df['sentiment_score'] = tweet_df['text_cleaned'].apply(analyze_sentiment)"
   ]
  },
  {
   "cell_type": "code",
   "execution_count": null,
   "metadata": {
    "collapsed": true
   },
   "outputs": [],
   "source": []
  },
  {
   "cell_type": "code",
   "execution_count": 23,
   "metadata": {
    "collapsed": false
   },
   "outputs": [
    {
     "data": {
      "text/html": [
       "<div>\n",
       "<style scoped>\n",
       "    .dataframe tbody tr th:only-of-type {\n",
       "        vertical-align: middle;\n",
       "    }\n",
       "\n",
       "    .dataframe tbody tr th {\n",
       "        vertical-align: top;\n",
       "    }\n",
       "\n",
       "    .dataframe thead th {\n",
       "        text-align: right;\n",
       "    }\n",
       "</style>\n",
       "<table border=\"1\" class=\"dataframe\">\n",
       "  <thead>\n",
       "    <tr style=\"text-align: right;\">\n",
       "      <th></th>\n",
       "      <th>date</th>\n",
       "      <th>date_time</th>\n",
       "      <th>id</th>\n",
       "      <th>permalink</th>\n",
       "      <th>permalink_uid</th>\n",
       "      <th>username</th>\n",
       "      <th>text</th>\n",
       "      <th>tweet_len</th>\n",
       "      <th>text_cleaned</th>\n",
       "      <th>sentiment_score</th>\n",
       "      <th>pos_sentiment_tweet</th>\n",
       "      <th>neutral_sentiment_tweet</th>\n",
       "      <th>neg_sentiment_tweet</th>\n",
       "    </tr>\n",
       "  </thead>\n",
       "  <tbody>\n",
       "    <tr>\n",
       "      <th>0</th>\n",
       "      <td>2017-12-25</td>\n",
       "      <td>12/25/2017 11:00</td>\n",
       "      <td>9.45E+17</td>\n",
       "      <td>https://twitter.com/wampei/status/945323495235...</td>\n",
       "      <td>945323495235481600</td>\n",
       "      <td>wampei</td>\n",
       "      <td>#Bitcoin Is Already Bouncing Back After the Bi...</td>\n",
       "      <td>201</td>\n",
       "      <td>bitcoin already bouncing back big crash fortun...</td>\n",
       "      <td>0</td>\n",
       "      <td>0</td>\n",
       "      <td>1</td>\n",
       "      <td>0</td>\n",
       "    </tr>\n",
       "    <tr>\n",
       "      <th>1</th>\n",
       "      <td>2017-12-25</td>\n",
       "      <td>12/25/2017 11:00</td>\n",
       "      <td>9.45E+17</td>\n",
       "      <td>https://twitter.com/cryptosbuy/status/94532349...</td>\n",
       "      <td>945323493079617536</td>\n",
       "      <td>cryptosbuy</td>\n",
       "      <td>bitcoin $ BTCUSD http://www. tradingview.com/c...</td>\n",
       "      <td>94</td>\n",
       "      <td>bitcoin btcusd tradingview com chart btcusd v ...</td>\n",
       "      <td>0</td>\n",
       "      <td>0</td>\n",
       "      <td>1</td>\n",
       "      <td>0</td>\n",
       "    </tr>\n",
       "    <tr>\n",
       "      <th>2</th>\n",
       "      <td>2017-12-25</td>\n",
       "      <td>12/25/2017 11:00</td>\n",
       "      <td>9.45E+17</td>\n",
       "      <td>https://twitter.com/CDS_news/status/9453234918...</td>\n",
       "      <td>945323491817082881</td>\n",
       "      <td>CDS_news</td>\n",
       "      <td>Tire suas dúvidas sobre Bitcoin http:// ow.ly/...</td>\n",
       "      <td>57</td>\n",
       "      <td>tire suas d vidas sobre bitcoin ow ly mg8v30hohdw</td>\n",
       "      <td>0</td>\n",
       "      <td>0</td>\n",
       "      <td>1</td>\n",
       "      <td>0</td>\n",
       "    </tr>\n",
       "    <tr>\n",
       "      <th>4</th>\n",
       "      <td>2017-12-25</td>\n",
       "      <td>12/25/2017 11:00</td>\n",
       "      <td>9.45E+17</td>\n",
       "      <td>https://twitter.com/SatoshiPoint/status/945323...</td>\n",
       "      <td>945323481411047426</td>\n",
       "      <td>SatoshiPoint</td>\n",
       "      <td>Five Reasons #Bitcoin Will Be Your Best High-G...</td>\n",
       "      <td>126</td>\n",
       "      <td>five reasons bitcoin best high growth investme...</td>\n",
       "      <td>1</td>\n",
       "      <td>1</td>\n",
       "      <td>0</td>\n",
       "      <td>0</td>\n",
       "    </tr>\n",
       "    <tr>\n",
       "      <th>5</th>\n",
       "      <td>2017-12-25</td>\n",
       "      <td>12/25/2017 11:00</td>\n",
       "      <td>9.45E+17</td>\n",
       "      <td>https://twitter.com/CityofInvestmnt/status/945...</td>\n",
       "      <td>945323480744112129</td>\n",
       "      <td>CityofInvestmnt</td>\n",
       "      <td>#الفوركس #форекс #外汇 #外匯 #Forex #تحليل_فني #فو...</td>\n",
       "      <td>271</td>\n",
       "      <td>forex bitcoin gold oil china silver india retw...</td>\n",
       "      <td>0</td>\n",
       "      <td>0</td>\n",
       "      <td>1</td>\n",
       "      <td>0</td>\n",
       "    </tr>\n",
       "  </tbody>\n",
       "</table>\n",
       "</div>"
      ],
      "text/plain": [
       "         date         date_time        id  \\\n",
       "0  2017-12-25  12/25/2017 11:00  9.45E+17   \n",
       "1  2017-12-25  12/25/2017 11:00  9.45E+17   \n",
       "2  2017-12-25  12/25/2017 11:00  9.45E+17   \n",
       "4  2017-12-25  12/25/2017 11:00  9.45E+17   \n",
       "5  2017-12-25  12/25/2017 11:00  9.45E+17   \n",
       "\n",
       "                                           permalink       permalink_uid  \\\n",
       "0  https://twitter.com/wampei/status/945323495235...  945323495235481600   \n",
       "1  https://twitter.com/cryptosbuy/status/94532349...  945323493079617536   \n",
       "2  https://twitter.com/CDS_news/status/9453234918...  945323491817082881   \n",
       "4  https://twitter.com/SatoshiPoint/status/945323...  945323481411047426   \n",
       "5  https://twitter.com/CityofInvestmnt/status/945...  945323480744112129   \n",
       "\n",
       "          username                                               text  \\\n",
       "0           wampei  #Bitcoin Is Already Bouncing Back After the Bi...   \n",
       "1       cryptosbuy  bitcoin $ BTCUSD http://www. tradingview.com/c...   \n",
       "2         CDS_news  Tire suas dúvidas sobre Bitcoin http:// ow.ly/...   \n",
       "4     SatoshiPoint  Five Reasons #Bitcoin Will Be Your Best High-G...   \n",
       "5  CityofInvestmnt  #الفوركس #форекс #外汇 #外匯 #Forex #تحليل_فني #فو...   \n",
       "\n",
       "   tweet_len                                       text_cleaned  \\\n",
       "0        201  bitcoin already bouncing back big crash fortun...   \n",
       "1         94  bitcoin btcusd tradingview com chart btcusd v ...   \n",
       "2         57  tire suas d vidas sobre bitcoin ow ly mg8v30hohdw   \n",
       "4        126  five reasons bitcoin best high growth investme...   \n",
       "5        271  forex bitcoin gold oil china silver india retw...   \n",
       "\n",
       "   sentiment_score  pos_sentiment_tweet  neutral_sentiment_tweet  \\\n",
       "0                0                    0                        1   \n",
       "1                0                    0                        1   \n",
       "2                0                    0                        1   \n",
       "4                1                    1                        0   \n",
       "5                0                    0                        1   \n",
       "\n",
       "   neg_sentiment_tweet  \n",
       "0                    0  \n",
       "1                    0  \n",
       "2                    0  \n",
       "4                    0  \n",
       "5                    0  "
      ]
     },
     "execution_count": 23,
     "metadata": {},
     "output_type": "execute_result"
    }
   ],
   "source": [
    "# pre-processing to count number of tweets per sentiment type\n",
    "tweet_df[\"pos_sentiment_tweet\"] = np.where(tweet_df[\"sentiment_score\"] > 0, 1, 0)\n",
    "#tweet_df[\"neg_sentiment_tweet\"] = np.where(tweet_df[\"sentiment\"] < 0, 1, tweet_df[\"pos_sentiment_tweet\"])\n",
    "tweet_df[\"neutral_sentiment_tweet\"] = np.where(tweet_df[\"sentiment_score\"] == 0, 1, 0)\n",
    "tweet_df[\"neg_sentiment_tweet\"] = np.where(tweet_df[\"sentiment_score\"] < 0, 1, 0)\n",
    "tweet_df.head()"
   ]
  },
  {
   "cell_type": "code",
   "execution_count": 24,
   "metadata": {
    "collapsed": true
   },
   "outputs": [],
   "source": [
    "tweet_df_sumd = tweet_df.groupby(pd.Grouper(key='date', sort=True)).sum()"
   ]
  },
  {
   "cell_type": "code",
   "execution_count": null,
   "metadata": {
    "collapsed": true
   },
   "outputs": [],
   "source": []
  },
  {
   "cell_type": "markdown",
   "metadata": {},
   "source": [
    "## Time-series pre-processing"
   ]
  },
  {
   "cell_type": "code",
   "execution_count": 25,
   "metadata": {
    "collapsed": false
   },
   "outputs": [
    {
     "data": {
      "text/html": [
       "<div>\n",
       "<style scoped>\n",
       "    .dataframe tbody tr th:only-of-type {\n",
       "        vertical-align: middle;\n",
       "    }\n",
       "\n",
       "    .dataframe tbody tr th {\n",
       "        vertical-align: top;\n",
       "    }\n",
       "\n",
       "    .dataframe thead th {\n",
       "        text-align: right;\n",
       "    }\n",
       "</style>\n",
       "<table border=\"1\" class=\"dataframe\">\n",
       "  <thead>\n",
       "    <tr style=\"text-align: right;\">\n",
       "      <th></th>\n",
       "      <th>tweet_len</th>\n",
       "      <th>sentiment_score</th>\n",
       "      <th>pos_sentiment_tweet</th>\n",
       "      <th>neutral_sentiment_tweet</th>\n",
       "      <th>neg_sentiment_tweet</th>\n",
       "    </tr>\n",
       "    <tr>\n",
       "      <th>date</th>\n",
       "      <th></th>\n",
       "      <th></th>\n",
       "      <th></th>\n",
       "      <th></th>\n",
       "      <th></th>\n",
       "    </tr>\n",
       "  </thead>\n",
       "  <tbody>\n",
       "    <tr>\n",
       "      <th>2014-12-02</th>\n",
       "      <td>nan</td>\n",
       "      <td>nan</td>\n",
       "      <td>nan</td>\n",
       "      <td>nan</td>\n",
       "      <td>nan</td>\n",
       "    </tr>\n",
       "    <tr>\n",
       "      <th>2014-12-06</th>\n",
       "      <td>nan</td>\n",
       "      <td>nan</td>\n",
       "      <td>nan</td>\n",
       "      <td>nan</td>\n",
       "      <td>nan</td>\n",
       "    </tr>\n",
       "    <tr>\n",
       "      <th>2014-12-08</th>\n",
       "      <td>16414.0</td>\n",
       "      <td>28.0</td>\n",
       "      <td>56.0</td>\n",
       "      <td>58.0</td>\n",
       "      <td>28.0</td>\n",
       "    </tr>\n",
       "    <tr>\n",
       "      <th>2014-12-10</th>\n",
       "      <td>19317.0</td>\n",
       "      <td>40.0</td>\n",
       "      <td>67.0</td>\n",
       "      <td>70.0</td>\n",
       "      <td>27.0</td>\n",
       "    </tr>\n",
       "    <tr>\n",
       "      <th>2014-12-13</th>\n",
       "      <td>19467.0</td>\n",
       "      <td>40.0</td>\n",
       "      <td>67.0</td>\n",
       "      <td>71.0</td>\n",
       "      <td>27.0</td>\n",
       "    </tr>\n",
       "  </tbody>\n",
       "</table>\n",
       "</div>"
      ],
      "text/plain": [
       "            tweet_len  sentiment_score  pos_sentiment_tweet  \\\n",
       "date                                                          \n",
       "2014-12-02        nan              nan                  nan   \n",
       "2014-12-06        nan              nan                  nan   \n",
       "2014-12-08    16414.0             28.0                 56.0   \n",
       "2014-12-10    19317.0             40.0                 67.0   \n",
       "2014-12-13    19467.0             40.0                 67.0   \n",
       "\n",
       "            neutral_sentiment_tweet  neg_sentiment_tweet  \n",
       "date                                                      \n",
       "2014-12-02                      nan                  nan  \n",
       "2014-12-06                      nan                  nan  \n",
       "2014-12-08                     58.0                 28.0  \n",
       "2014-12-10                     70.0                 27.0  \n",
       "2014-12-13                     71.0                 27.0  "
      ]
     },
     "execution_count": 25,
     "metadata": {},
     "output_type": "execute_result"
    }
   ],
   "source": [
    "tweet_df_sumd_3day = tweet_df_sumd.rolling(window=3).sum()\n",
    "tweet_df_sumd_3day.head()"
   ]
  },
  {
   "cell_type": "code",
   "execution_count": 26,
   "metadata": {
    "collapsed": false
   },
   "outputs": [
    {
     "data": {
      "text/html": [
       "<div>\n",
       "<style scoped>\n",
       "    .dataframe tbody tr th:only-of-type {\n",
       "        vertical-align: middle;\n",
       "    }\n",
       "\n",
       "    .dataframe tbody tr th {\n",
       "        vertical-align: top;\n",
       "    }\n",
       "\n",
       "    .dataframe thead th {\n",
       "        text-align: right;\n",
       "    }\n",
       "</style>\n",
       "<table border=\"1\" class=\"dataframe\">\n",
       "  <thead>\n",
       "    <tr style=\"text-align: right;\">\n",
       "      <th></th>\n",
       "      <th>date</th>\n",
       "      <th>tweet_len</th>\n",
       "      <th>sentiment_score</th>\n",
       "      <th>pos_sentiment_tweet</th>\n",
       "      <th>neutral_sentiment_tweet</th>\n",
       "      <th>neg_sentiment_tweet</th>\n",
       "    </tr>\n",
       "  </thead>\n",
       "  <tbody>\n",
       "    <tr>\n",
       "      <th>0</th>\n",
       "      <td>2014-12-02</td>\n",
       "      <td>nan</td>\n",
       "      <td>nan</td>\n",
       "      <td>nan</td>\n",
       "      <td>nan</td>\n",
       "      <td>nan</td>\n",
       "    </tr>\n",
       "    <tr>\n",
       "      <th>1</th>\n",
       "      <td>2014-12-06</td>\n",
       "      <td>nan</td>\n",
       "      <td>nan</td>\n",
       "      <td>nan</td>\n",
       "      <td>nan</td>\n",
       "      <td>nan</td>\n",
       "    </tr>\n",
       "    <tr>\n",
       "      <th>2</th>\n",
       "      <td>2014-12-08</td>\n",
       "      <td>16414.0</td>\n",
       "      <td>28.0</td>\n",
       "      <td>56.0</td>\n",
       "      <td>58.0</td>\n",
       "      <td>28.0</td>\n",
       "    </tr>\n",
       "    <tr>\n",
       "      <th>3</th>\n",
       "      <td>2014-12-10</td>\n",
       "      <td>19317.0</td>\n",
       "      <td>40.0</td>\n",
       "      <td>67.0</td>\n",
       "      <td>70.0</td>\n",
       "      <td>27.0</td>\n",
       "    </tr>\n",
       "    <tr>\n",
       "      <th>4</th>\n",
       "      <td>2014-12-13</td>\n",
       "      <td>19467.0</td>\n",
       "      <td>40.0</td>\n",
       "      <td>67.0</td>\n",
       "      <td>71.0</td>\n",
       "      <td>27.0</td>\n",
       "    </tr>\n",
       "  </tbody>\n",
       "</table>\n",
       "</div>"
      ],
      "text/plain": [
       "         date  tweet_len  sentiment_score  pos_sentiment_tweet  \\\n",
       "0  2014-12-02        nan              nan                  nan   \n",
       "1  2014-12-06        nan              nan                  nan   \n",
       "2  2014-12-08    16414.0             28.0                 56.0   \n",
       "3  2014-12-10    19317.0             40.0                 67.0   \n",
       "4  2014-12-13    19467.0             40.0                 67.0   \n",
       "\n",
       "   neutral_sentiment_tweet  neg_sentiment_tweet  \n",
       "0                      nan                  nan  \n",
       "1                      nan                  nan  \n",
       "2                     58.0                 28.0  \n",
       "3                     70.0                 27.0  \n",
       "4                     71.0                 27.0  "
      ]
     },
     "execution_count": 26,
     "metadata": {},
     "output_type": "execute_result"
    }
   ],
   "source": [
    "tweet_df_sumd_3day.reset_index(level=0, inplace=True)\n",
    "tweet_df_sumd_3day.head()"
   ]
  },
  {
   "cell_type": "code",
   "execution_count": 27,
   "metadata": {
    "collapsed": false
   },
   "outputs": [
    {
     "data": {
      "text/html": [
       "<div>\n",
       "<style scoped>\n",
       "    .dataframe tbody tr th:only-of-type {\n",
       "        vertical-align: middle;\n",
       "    }\n",
       "\n",
       "    .dataframe tbody tr th {\n",
       "        vertical-align: top;\n",
       "    }\n",
       "\n",
       "    .dataframe thead th {\n",
       "        text-align: right;\n",
       "    }\n",
       "</style>\n",
       "<table border=\"1\" class=\"dataframe\">\n",
       "  <thead>\n",
       "    <tr style=\"text-align: right;\">\n",
       "      <th></th>\n",
       "      <th>date</th>\n",
       "      <th>tweet_len</th>\n",
       "      <th>sentiment_score</th>\n",
       "      <th>pos_sentiment_tweet</th>\n",
       "      <th>neutral_sentiment_tweet</th>\n",
       "      <th>neg_sentiment_tweet</th>\n",
       "    </tr>\n",
       "  </thead>\n",
       "  <tbody>\n",
       "    <tr>\n",
       "      <th>2</th>\n",
       "      <td>2014-12-08</td>\n",
       "      <td>16414.0</td>\n",
       "      <td>28.0</td>\n",
       "      <td>56.0</td>\n",
       "      <td>58.0</td>\n",
       "      <td>28.0</td>\n",
       "    </tr>\n",
       "    <tr>\n",
       "      <th>3</th>\n",
       "      <td>2014-12-10</td>\n",
       "      <td>19317.0</td>\n",
       "      <td>40.0</td>\n",
       "      <td>67.0</td>\n",
       "      <td>70.0</td>\n",
       "      <td>27.0</td>\n",
       "    </tr>\n",
       "    <tr>\n",
       "      <th>4</th>\n",
       "      <td>2014-12-13</td>\n",
       "      <td>19467.0</td>\n",
       "      <td>40.0</td>\n",
       "      <td>67.0</td>\n",
       "      <td>71.0</td>\n",
       "      <td>27.0</td>\n",
       "    </tr>\n",
       "    <tr>\n",
       "      <th>5</th>\n",
       "      <td>2014-12-17</td>\n",
       "      <td>11127.0</td>\n",
       "      <td>38.0</td>\n",
       "      <td>42.0</td>\n",
       "      <td>44.0</td>\n",
       "      <td>4.0</td>\n",
       "    </tr>\n",
       "    <tr>\n",
       "      <th>6</th>\n",
       "      <td>2014-12-18</td>\n",
       "      <td>9518.0</td>\n",
       "      <td>28.0</td>\n",
       "      <td>31.0</td>\n",
       "      <td>44.0</td>\n",
       "      <td>3.0</td>\n",
       "    </tr>\n",
       "  </tbody>\n",
       "</table>\n",
       "</div>"
      ],
      "text/plain": [
       "         date  tweet_len  sentiment_score  pos_sentiment_tweet  \\\n",
       "2  2014-12-08    16414.0             28.0                 56.0   \n",
       "3  2014-12-10    19317.0             40.0                 67.0   \n",
       "4  2014-12-13    19467.0             40.0                 67.0   \n",
       "5  2014-12-17    11127.0             38.0                 42.0   \n",
       "6  2014-12-18     9518.0             28.0                 31.0   \n",
       "\n",
       "   neutral_sentiment_tweet  neg_sentiment_tweet  \n",
       "2                     58.0                 28.0  \n",
       "3                     70.0                 27.0  \n",
       "4                     71.0                 27.0  \n",
       "5                     44.0                  4.0  \n",
       "6                     44.0                  3.0  "
      ]
     },
     "execution_count": 27,
     "metadata": {},
     "output_type": "execute_result"
    }
   ],
   "source": [
    "# if NAN's then drop them\n",
    "tweet_df_sumd_3day = tweet_df_sumd_3day.dropna(subset=['sentiment_score', 'pos_sentiment_tweet','pos_sentiment_tweet'])\n",
    "tweet_df_sumd_3day.head()"
   ]
  },
  {
   "cell_type": "code",
   "execution_count": null,
   "metadata": {
    "collapsed": true
   },
   "outputs": [],
   "source": []
  },
  {
   "cell_type": "code",
   "execution_count": 28,
   "metadata": {
    "collapsed": false
   },
   "outputs": [
    {
     "data": {
      "text/html": [
       "<div>\n",
       "<style scoped>\n",
       "    .dataframe tbody tr th:only-of-type {\n",
       "        vertical-align: middle;\n",
       "    }\n",
       "\n",
       "    .dataframe tbody tr th {\n",
       "        vertical-align: top;\n",
       "    }\n",
       "\n",
       "    .dataframe thead th {\n",
       "        text-align: right;\n",
       "    }\n",
       "</style>\n",
       "<table border=\"1\" class=\"dataframe\">\n",
       "  <thead>\n",
       "    <tr style=\"text-align: right;\">\n",
       "      <th></th>\n",
       "      <th>date</th>\n",
       "      <th>tweet_len</th>\n",
       "      <th>sentiment_score</th>\n",
       "      <th>pos_sentiment_tweet</th>\n",
       "      <th>neutral_sentiment_tweet</th>\n",
       "      <th>neg_sentiment_tweet</th>\n",
       "      <th>pos-neg</th>\n",
       "    </tr>\n",
       "  </thead>\n",
       "  <tbody>\n",
       "    <tr>\n",
       "      <th>2</th>\n",
       "      <td>2014-12-08</td>\n",
       "      <td>16414.0</td>\n",
       "      <td>28.0</td>\n",
       "      <td>56.0</td>\n",
       "      <td>58.0</td>\n",
       "      <td>28.0</td>\n",
       "      <td>28.0</td>\n",
       "    </tr>\n",
       "    <tr>\n",
       "      <th>3</th>\n",
       "      <td>2014-12-10</td>\n",
       "      <td>19317.0</td>\n",
       "      <td>40.0</td>\n",
       "      <td>67.0</td>\n",
       "      <td>70.0</td>\n",
       "      <td>27.0</td>\n",
       "      <td>40.0</td>\n",
       "    </tr>\n",
       "    <tr>\n",
       "      <th>4</th>\n",
       "      <td>2014-12-13</td>\n",
       "      <td>19467.0</td>\n",
       "      <td>40.0</td>\n",
       "      <td>67.0</td>\n",
       "      <td>71.0</td>\n",
       "      <td>27.0</td>\n",
       "      <td>40.0</td>\n",
       "    </tr>\n",
       "    <tr>\n",
       "      <th>5</th>\n",
       "      <td>2014-12-17</td>\n",
       "      <td>11127.0</td>\n",
       "      <td>38.0</td>\n",
       "      <td>42.0</td>\n",
       "      <td>44.0</td>\n",
       "      <td>4.0</td>\n",
       "      <td>38.0</td>\n",
       "    </tr>\n",
       "    <tr>\n",
       "      <th>6</th>\n",
       "      <td>2014-12-18</td>\n",
       "      <td>9518.0</td>\n",
       "      <td>28.0</td>\n",
       "      <td>31.0</td>\n",
       "      <td>44.0</td>\n",
       "      <td>3.0</td>\n",
       "      <td>28.0</td>\n",
       "    </tr>\n",
       "  </tbody>\n",
       "</table>\n",
       "</div>"
      ],
      "text/plain": [
       "         date  tweet_len  sentiment_score  pos_sentiment_tweet  \\\n",
       "2  2014-12-08    16414.0             28.0                 56.0   \n",
       "3  2014-12-10    19317.0             40.0                 67.0   \n",
       "4  2014-12-13    19467.0             40.0                 67.0   \n",
       "5  2014-12-17    11127.0             38.0                 42.0   \n",
       "6  2014-12-18     9518.0             28.0                 31.0   \n",
       "\n",
       "   neutral_sentiment_tweet  neg_sentiment_tweet  pos-neg  \n",
       "2                     58.0                 28.0     28.0  \n",
       "3                     70.0                 27.0     40.0  \n",
       "4                     71.0                 27.0     40.0  \n",
       "5                     44.0                  4.0     38.0  \n",
       "6                     44.0                  3.0     28.0  "
      ]
     },
     "execution_count": 28,
     "metadata": {},
     "output_type": "execute_result"
    }
   ],
   "source": [
    "tweet_df_sumd_3day['pos-neg'] = tweet_df_sumd_3day['pos_sentiment_tweet'] - tweet_df_sumd_3day['neg_sentiment_tweet']\n",
    "tweet_df_sumd_3day.head()"
   ]
  },
  {
   "cell_type": "code",
   "execution_count": 29,
   "metadata": {
    "collapsed": false
   },
   "outputs": [],
   "source": [
    "tweet_df_sumd_3day['neg-plus-neutral'] = tweet_df_sumd_3day['neutral_sentiment_tweet'] + tweet_df_sumd_3day['neg_sentiment_tweet']\n",
    "# tweet_df_sumd_3day.head()\n",
    "\n",
    "tweet_df_sumd_3day['posNeg-plusNeutral'] = tweet_df_sumd_3day['pos_sentiment_tweet'] - tweet_df_sumd_3day['neg-plus-neutral']\n",
    "# tweet_df_sumd_3day.head()"
   ]
  },
  {
   "cell_type": "code",
   "execution_count": 30,
   "metadata": {
    "collapsed": false
   },
   "outputs": [],
   "source": [
    "# 1's for bullish regimes, and 0's for everything else\n",
    "tweet_df_sumd_3day[\"signal\"] = np.where(tweet_df_sumd_3day[\"posNeg-plusNeutral\"] > 0, 1, 0)\n",
    "\n",
    "tweet_df_sumd_3day[\"signal\"] = np.where(tweet_df_sumd_3day[\"posNeg-plusNeutral\"] < 0, -1, tweet_df_sumd_3day[\"signal\"] )"
   ]
  },
  {
   "cell_type": "code",
   "execution_count": 31,
   "metadata": {
    "collapsed": false
   },
   "outputs": [
    {
     "data": {
      "text/plain": [
       "-1    1006\n",
       " 1      34\n",
       " 0       2\n",
       "Name: signal, dtype: int64"
      ]
     },
     "execution_count": 31,
     "metadata": {},
     "output_type": "execute_result"
    }
   ],
   "source": [
    "tweet_df_sumd_3day['signal'].value_counts() "
   ]
  },
  {
   "cell_type": "code",
   "execution_count": 32,
   "metadata": {
    "collapsed": false
   },
   "outputs": [
    {
     "data": {
      "text/html": [
       "<div>\n",
       "<style scoped>\n",
       "    .dataframe tbody tr th:only-of-type {\n",
       "        vertical-align: middle;\n",
       "    }\n",
       "\n",
       "    .dataframe tbody tr th {\n",
       "        vertical-align: top;\n",
       "    }\n",
       "\n",
       "    .dataframe thead th {\n",
       "        text-align: right;\n",
       "    }\n",
       "</style>\n",
       "<table border=\"1\" class=\"dataframe\">\n",
       "  <thead>\n",
       "    <tr style=\"text-align: right;\">\n",
       "      <th></th>\n",
       "      <th>date</th>\n",
       "      <th>tweet_len</th>\n",
       "      <th>sentiment_score</th>\n",
       "      <th>pos_sentiment_tweet</th>\n",
       "      <th>neutral_sentiment_tweet</th>\n",
       "      <th>neg_sentiment_tweet</th>\n",
       "      <th>pos-neg</th>\n",
       "      <th>neg-plus-neutral</th>\n",
       "      <th>posNeg-plusNeutral</th>\n",
       "      <th>signal</th>\n",
       "    </tr>\n",
       "  </thead>\n",
       "  <tbody>\n",
       "    <tr>\n",
       "      <th>2</th>\n",
       "      <td>2014-12-08</td>\n",
       "      <td>16414.0</td>\n",
       "      <td>28.0</td>\n",
       "      <td>56.0</td>\n",
       "      <td>58.0</td>\n",
       "      <td>28.0</td>\n",
       "      <td>28.0</td>\n",
       "      <td>86.0</td>\n",
       "      <td>-30.0</td>\n",
       "      <td>-1</td>\n",
       "    </tr>\n",
       "    <tr>\n",
       "      <th>3</th>\n",
       "      <td>2014-12-10</td>\n",
       "      <td>19317.0</td>\n",
       "      <td>40.0</td>\n",
       "      <td>67.0</td>\n",
       "      <td>70.0</td>\n",
       "      <td>27.0</td>\n",
       "      <td>40.0</td>\n",
       "      <td>97.0</td>\n",
       "      <td>-30.0</td>\n",
       "      <td>-1</td>\n",
       "    </tr>\n",
       "    <tr>\n",
       "      <th>4</th>\n",
       "      <td>2014-12-13</td>\n",
       "      <td>19467.0</td>\n",
       "      <td>40.0</td>\n",
       "      <td>67.0</td>\n",
       "      <td>71.0</td>\n",
       "      <td>27.0</td>\n",
       "      <td>40.0</td>\n",
       "      <td>98.0</td>\n",
       "      <td>-31.0</td>\n",
       "      <td>-1</td>\n",
       "    </tr>\n",
       "    <tr>\n",
       "      <th>5</th>\n",
       "      <td>2014-12-17</td>\n",
       "      <td>11127.0</td>\n",
       "      <td>38.0</td>\n",
       "      <td>42.0</td>\n",
       "      <td>44.0</td>\n",
       "      <td>4.0</td>\n",
       "      <td>38.0</td>\n",
       "      <td>48.0</td>\n",
       "      <td>-6.0</td>\n",
       "      <td>-1</td>\n",
       "    </tr>\n",
       "    <tr>\n",
       "      <th>6</th>\n",
       "      <td>2014-12-18</td>\n",
       "      <td>9518.0</td>\n",
       "      <td>28.0</td>\n",
       "      <td>31.0</td>\n",
       "      <td>44.0</td>\n",
       "      <td>3.0</td>\n",
       "      <td>28.0</td>\n",
       "      <td>47.0</td>\n",
       "      <td>-16.0</td>\n",
       "      <td>-1</td>\n",
       "    </tr>\n",
       "  </tbody>\n",
       "</table>\n",
       "</div>"
      ],
      "text/plain": [
       "         date  tweet_len  sentiment_score  pos_sentiment_tweet  \\\n",
       "2  2014-12-08    16414.0             28.0                 56.0   \n",
       "3  2014-12-10    19317.0             40.0                 67.0   \n",
       "4  2014-12-13    19467.0             40.0                 67.0   \n",
       "5  2014-12-17    11127.0             38.0                 42.0   \n",
       "6  2014-12-18     9518.0             28.0                 31.0   \n",
       "\n",
       "   neutral_sentiment_tweet  neg_sentiment_tweet  pos-neg  neg-plus-neutral  \\\n",
       "2                     58.0                 28.0     28.0              86.0   \n",
       "3                     70.0                 27.0     40.0              97.0   \n",
       "4                     71.0                 27.0     40.0              98.0   \n",
       "5                     44.0                  4.0     38.0              48.0   \n",
       "6                     44.0                  3.0     28.0              47.0   \n",
       "\n",
       "   posNeg-plusNeutral  signal  \n",
       "2               -30.0      -1  \n",
       "3               -30.0      -1  \n",
       "4               -31.0      -1  \n",
       "5                -6.0      -1  \n",
       "6               -16.0      -1  "
      ]
     },
     "execution_count": 32,
     "metadata": {},
     "output_type": "execute_result"
    }
   ],
   "source": [
    "tweet_df_sumd_3day.head()"
   ]
  },
  {
   "cell_type": "code",
   "execution_count": 54,
   "metadata": {
    "collapsed": true
   },
   "outputs": [],
   "source": [
    "tweet_df_sumd_3day.to_csv('data/processed_tweet_data_.csv')"
   ]
  },
  {
   "cell_type": "code",
   "execution_count": 1,
   "metadata": {
    "collapsed": false
   },
   "outputs": [
    {
     "ename": "NameError",
     "evalue": "name 'tweet_df_sumd_3day' is not defined",
     "output_type": "error",
     "traceback": [
      "\u001b[0;31m---------------------------------------------------------------------------\u001b[0m",
      "\u001b[0;31mNameError\u001b[0m                                 Traceback (most recent call last)",
      "\u001b[0;32m<ipython-input-1-65710be67524>\u001b[0m in \u001b[0;36m<module>\u001b[0;34m()\u001b[0m\n\u001b[0;32m----> 1\u001b[0;31m \u001b[0mtweet_df_sumd_3day\u001b[0m\u001b[1;33m.\u001b[0m\u001b[0mhead\u001b[0m\u001b[1;33m(\u001b[0m\u001b[1;33m)\u001b[0m\u001b[1;33m\u001b[0m\u001b[0m\n\u001b[0m",
      "\u001b[0;31mNameError\u001b[0m: name 'tweet_df_sumd_3day' is not defined"
     ]
    }
   ],
   "source": []
  },
  {
   "cell_type": "code",
   "execution_count": null,
   "metadata": {
    "collapsed": true
   },
   "outputs": [],
   "source": [
    "# https://github.com/harishpuvvada/BitCoin-Value-Predictor\n",
    "\n",
    "# Textblob code\n",
    "# from textblob import TextBlob  #passing cleaned tweets and getting a sentiment score for each tweet\n",
    "# from textblob.sentiments import NaiveBayesAnalyzer\n",
    "# def senti_score_udf(input_str):\n",
    "#     PSanalysis = TextBlob(input_str)\n",
    "#     analysis = TextBlob(input_str,analyzer=NaiveBayesAnalyzer())\n",
    "#     polarity = PSanalysis.sentiment.polarity\n",
    "#     subjectivity = PSanalysis.sentiment.subjectivity\n",
    "#     classification = analysis.sentiment.classification\n",
    "#     p_pos = analysis.sentiment.p_pos\n",
    "#     p_neg = analysis.sentiment.p_neg\n",
    "#     return [polarity,subjectivity,classification,p_pos,p_neg] #subjectivity, polarity, p_neg, classification"
   ]
  },
  {
   "cell_type": "markdown",
   "metadata": {},
   "source": [
    "### Sentiment Analysis: vaderSentiment"
   ]
  },
  {
   "cell_type": "code",
   "execution_count": null,
   "metadata": {
    "collapsed": true
   },
   "outputs": [],
   "source": [
    "# https://github.com/Sapphirine/Using-News-to-Predict-Stock-Movement\n",
    "from vaderSentiment.vaderSentiment import SentimentIntensityAnalyzer\n",
    "analyser = SentimentIntensityAnalyzer()\n",
    "def senti_score_udf(sentence):\n",
    "    snt = analyser.polarity_scores(sentence)\n",
    "    return ([snt['neg'], snt['neu'], snt['pos'], snt['compound']])"
   ]
  }
 ],
 "metadata": {
  "anaconda-cloud": {},
  "kernelspec": {
   "display_name": "Python [conda env:Anaconda3]",
   "language": "python",
   "name": "conda-env-Anaconda3-py"
  },
  "language_info": {
   "codemirror_mode": {
    "name": "ipython",
    "version": 3
   },
   "file_extension": ".py",
   "mimetype": "text/x-python",
   "name": "python",
   "nbconvert_exporter": "python",
   "pygments_lexer": "ipython3",
   "version": "3.5.2"
  }
 },
 "nbformat": 4,
 "nbformat_minor": 1
}

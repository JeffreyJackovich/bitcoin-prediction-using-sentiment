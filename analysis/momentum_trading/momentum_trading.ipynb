{
 "cells": [
  {
   "cell_type": "code",
   "execution_count": 1,
   "metadata": {},
   "outputs": [],
   "source": [
    "import pandas as pd\n",
    "import numpy as np\n",
    "# import helper\n",
    "# import project_helper\n",
    "# import project_tests"
   ]
  },
  {
   "cell_type": "code",
   "execution_count": 3,
   "metadata": {},
   "outputs": [
    {
     "name": "stdout",
     "output_type": "stream",
     "text": [
      "Loaded Data\n"
     ]
    }
   ],
   "source": [
    "price_csv = \"etl/data/processed_btc_prices_ohlcvvw_2014-12-01_to_2018-11-11.csv\"\n",
    "df = pd.read_csv(price_csv, parse_dates=['date'], index_col=False)\n",
    "print('Loaded Data')"
   ]
  },
  {
   "cell_type": "code",
   "execution_count": 5,
   "metadata": {},
   "outputs": [],
   "source": [
    "df = df.drop(columns='Unnamed: 0')"
   ]
  },
  {
   "cell_type": "code",
   "execution_count": 6,
   "metadata": {},
   "outputs": [
    {
     "data": {
      "text/html": [
       "<div>\n",
       "<style scoped>\n",
       "    .dataframe tbody tr th:only-of-type {\n",
       "        vertical-align: middle;\n",
       "    }\n",
       "\n",
       "    .dataframe tbody tr th {\n",
       "        vertical-align: top;\n",
       "    }\n",
       "\n",
       "    .dataframe thead th {\n",
       "        text-align: right;\n",
       "    }\n",
       "</style>\n",
       "<table border=\"1\" class=\"dataframe\">\n",
       "  <thead>\n",
       "    <tr style=\"text-align: right;\">\n",
       "      <th></th>\n",
       "      <th>date</th>\n",
       "      <th>Open</th>\n",
       "      <th>High</th>\n",
       "      <th>Low</th>\n",
       "      <th>Close</th>\n",
       "      <th>Volume_(BTC)</th>\n",
       "      <th>Volume_(Currency)</th>\n",
       "      <th>Weighted_Price</th>\n",
       "    </tr>\n",
       "  </thead>\n",
       "  <tbody>\n",
       "    <tr>\n",
       "      <td>0</td>\n",
       "      <td>2014-12-01</td>\n",
       "      <td>335.000000</td>\n",
       "      <td>335.000000</td>\n",
       "      <td>335.000000</td>\n",
       "      <td>335.000000</td>\n",
       "      <td>0.014139</td>\n",
       "      <td>4.881387</td>\n",
       "      <td>335.000000</td>\n",
       "    </tr>\n",
       "    <tr>\n",
       "      <td>1</td>\n",
       "      <td>2014-12-02</td>\n",
       "      <td>377.821429</td>\n",
       "      <td>377.857143</td>\n",
       "      <td>377.821429</td>\n",
       "      <td>377.857143</td>\n",
       "      <td>2.144800</td>\n",
       "      <td>810.724043</td>\n",
       "      <td>377.854911</td>\n",
       "    </tr>\n",
       "    <tr>\n",
       "      <td>2</td>\n",
       "      <td>2014-12-03</td>\n",
       "      <td>377.715714</td>\n",
       "      <td>377.715714</td>\n",
       "      <td>377.715714</td>\n",
       "      <td>377.715714</td>\n",
       "      <td>0.079515</td>\n",
       "      <td>30.041283</td>\n",
       "      <td>377.715714</td>\n",
       "    </tr>\n",
       "    <tr>\n",
       "      <td>3</td>\n",
       "      <td>2014-12-05</td>\n",
       "      <td>378.000000</td>\n",
       "      <td>378.000000</td>\n",
       "      <td>378.000000</td>\n",
       "      <td>378.000000</td>\n",
       "      <td>0.015000</td>\n",
       "      <td>5.670000</td>\n",
       "      <td>378.000000</td>\n",
       "    </tr>\n",
       "    <tr>\n",
       "      <td>4</td>\n",
       "      <td>2014-12-08</td>\n",
       "      <td>375.010000</td>\n",
       "      <td>375.010000</td>\n",
       "      <td>375.000000</td>\n",
       "      <td>375.000000</td>\n",
       "      <td>0.235000</td>\n",
       "      <td>88.125100</td>\n",
       "      <td>375.000426</td>\n",
       "    </tr>\n",
       "  </tbody>\n",
       "</table>\n",
       "</div>"
      ],
      "text/plain": [
       "        date        Open        High         Low       Close  Volume_(BTC)  \\\n",
       "0 2014-12-01  335.000000  335.000000  335.000000  335.000000      0.014139   \n",
       "1 2014-12-02  377.821429  377.857143  377.821429  377.857143      2.144800   \n",
       "2 2014-12-03  377.715714  377.715714  377.715714  377.715714      0.079515   \n",
       "3 2014-12-05  378.000000  378.000000  378.000000  378.000000      0.015000   \n",
       "4 2014-12-08  375.010000  375.010000  375.000000  375.000000      0.235000   \n",
       "\n",
       "   Volume_(Currency)  Weighted_Price  \n",
       "0           4.881387      335.000000  \n",
       "1         810.724043      377.854911  \n",
       "2          30.041283      377.715714  \n",
       "3           5.670000      378.000000  \n",
       "4          88.125100      375.000426  "
      ]
     },
     "execution_count": 6,
     "metadata": {},
     "output_type": "execute_result"
    }
   ],
   "source": [
    "df.head()"
   ]
  },
  {
   "cell_type": "code",
   "execution_count": null,
   "metadata": {},
   "outputs": [],
   "source": [
    "\n",
    "close = df.reset_index().pivot(index='date', columns='ticker', values='adj_close')\n",
    "\n"
   ]
  },
  {
   "cell_type": "code",
   "execution_count": null,
   "metadata": {},
   "outputs": [],
   "source": []
  }
 ],
 "metadata": {
  "kernelspec": {
   "display_name": "py36_udacity_ai",
   "language": "python",
   "name": "py36_udacity_ai"
  },
  "language_info": {
   "codemirror_mode": {
    "name": "ipython",
    "version": 3
   },
   "file_extension": ".py",
   "mimetype": "text/x-python",
   "name": "python",
   "nbconvert_exporter": "python",
   "pygments_lexer": "ipython3",
   "version": "3.6.10"
  }
 },
 "nbformat": 4,
 "nbformat_minor": 4
}
